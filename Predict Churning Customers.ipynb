{
  "nbformat": 4,
  "nbformat_minor": 5,
  "metadata": {
    "kernelspec": {
      "display_name": "Python 3",
      "language": "python",
      "name": "python3"
    },
    "language_info": {
      "codemirror_mode": {
        "name": "ipython",
        "version": 3
      },
      "file_extension": ".py",
      "mimetype": "text/x-python",
      "name": "python",
      "nbconvert_exporter": "python",
      "pygments_lexer": "ipython3",
      "version": "3.7.10"
    },
    "papermill": {
      "default_parameters": {},
      "duration": 1403.142634,
      "end_time": "2021-08-17T03:42:02.375740",
      "environment_variables": {},
      "exception": null,
      "input_path": "__notebook__.ipynb",
      "output_path": "__notebook__.ipynb",
      "parameters": {},
      "start_time": "2021-08-17T03:18:39.233106",
      "version": "2.3.3"
    },
    "colab": {
      "name": "predict-churning-customers.ipynb",
      "provenance": [],
      "include_colab_link": true
    }
  },
  "cells": [
    {
      "cell_type": "markdown",
      "metadata": {
        "id": "view-in-github",
        "colab_type": "text"
      },
      "source": [
        "<a href=\"https://colab.research.google.com/github/AnasMahfudz/DataScienceProject/blob/main/Predict%20Churning%20Customers.ipynb\" target=\"_parent\"><img src=\"https://colab.research.google.com/assets/colab-badge.svg\" alt=\"Open In Colab\"/></a>"
      ]
    },
    {
      "cell_type": "markdown",
      "metadata": {
        "papermill": {
          "duration": 0.071076,
          "end_time": "2021-08-17T03:18:54.615797",
          "exception": false,
          "start_time": "2021-08-17T03:18:54.544721",
          "status": "completed"
        },
        "tags": [],
        "id": "35aa9652"
      },
      "source": [
        "# **Credit Card customers**\n",
        "\n",
        "**Predict Churning customers**"
      ],
      "id": "35aa9652"
    },
    {
      "cell_type": "markdown",
      "metadata": {
        "papermill": {
          "duration": 0.070959,
          "end_time": "2021-08-17T03:18:54.759360",
          "exception": false,
          "start_time": "2021-08-17T03:18:54.688401",
          "status": "completed"
        },
        "tags": [],
        "id": "3bc6f54b"
      },
      "source": [
        "Problem :\n",
        "\n",
        "A manager at the bank is disturbed with more and more customers leaving their credit card services. They would really appreciate if one could predict for them who is gonna get churned so they can proactively go to the customer to provide them better services and turn customers decisions in the opposite direction. We have only 16.07% of customers who have churned. Thus, it's a bit difficult to train our model to predict churning customers."
      ],
      "id": "3bc6f54b"
    },
    {
      "cell_type": "code",
      "metadata": {
        "execution": {
          "iopub.execute_input": "2021-08-17T03:18:54.909506Z",
          "iopub.status.busy": "2021-08-17T03:18:54.908455Z",
          "iopub.status.idle": "2021-08-17T03:18:56.449455Z",
          "shell.execute_reply": "2021-08-17T03:18:56.448580Z",
          "shell.execute_reply.started": "2021-08-17T02:18:17.406927Z"
        },
        "papermill": {
          "duration": 1.616871,
          "end_time": "2021-08-17T03:18:56.449666",
          "exception": false,
          "start_time": "2021-08-17T03:18:54.832795",
          "status": "completed"
        },
        "tags": [],
        "id": "daea64f9"
      },
      "source": [
        "# import library\n",
        "import pandas as pd\n",
        "import numpy as np\n",
        "\n",
        "#matplotlib\n",
        "import matplotlib.pyplot as plt\n",
        "import seaborn as sns"
      ],
      "id": "daea64f9",
      "execution_count": 2,
      "outputs": []
    },
    {
      "cell_type": "code",
      "metadata": {
        "execution": {
          "iopub.execute_input": "2021-08-17T03:18:56.638031Z",
          "iopub.status.busy": "2021-08-17T03:18:56.636976Z",
          "iopub.status.idle": "2021-08-17T03:18:56.822863Z",
          "shell.execute_reply": "2021-08-17T03:18:56.824424Z",
          "shell.execute_reply.started": "2021-08-17T02:18:17.437041Z"
        },
        "papermill": {
          "duration": 0.290437,
          "end_time": "2021-08-17T03:18:56.824802",
          "exception": false,
          "start_time": "2021-08-17T03:18:56.534365",
          "status": "completed"
        },
        "tags": [],
        "colab": {
          "base_uri": "https://localhost:8080/",
          "height": 306
        },
        "id": "c8133e80",
        "outputId": "1afdb5c4-5c4f-47f4-dfd3-93c804b63bc7"
      },
      "source": [
        "data = pd.read_csv('https://raw.githubusercontent.com/Valdera/Project-DigitalSkola/main/BankChurners.csv')\n",
        "data = pd.DataFrame(data)\n",
        "data.head()"
      ],
      "id": "c8133e80",
      "execution_count": 3,
      "outputs": [
        {
          "output_type": "execute_result",
          "data": {
            "text/html": [
              "<div>\n",
              "<style scoped>\n",
              "    .dataframe tbody tr th:only-of-type {\n",
              "        vertical-align: middle;\n",
              "    }\n",
              "\n",
              "    .dataframe tbody tr th {\n",
              "        vertical-align: top;\n",
              "    }\n",
              "\n",
              "    .dataframe thead th {\n",
              "        text-align: right;\n",
              "    }\n",
              "</style>\n",
              "<table border=\"1\" class=\"dataframe\">\n",
              "  <thead>\n",
              "    <tr style=\"text-align: right;\">\n",
              "      <th></th>\n",
              "      <th>CLIENTNUM</th>\n",
              "      <th>Attrition_Flag</th>\n",
              "      <th>Customer_Age</th>\n",
              "      <th>Gender</th>\n",
              "      <th>Dependent_count</th>\n",
              "      <th>Education_Level</th>\n",
              "      <th>Marital_Status</th>\n",
              "      <th>Income_Category</th>\n",
              "      <th>Card_Category</th>\n",
              "      <th>Months_on_book</th>\n",
              "      <th>Total_Relationship_Count</th>\n",
              "      <th>Months_Inactive_12_mon</th>\n",
              "      <th>Contacts_Count_12_mon</th>\n",
              "      <th>Credit_Limit</th>\n",
              "      <th>Total_Revolving_Bal</th>\n",
              "      <th>Avg_Open_To_Buy</th>\n",
              "      <th>Total_Amt_Chng_Q4_Q1</th>\n",
              "      <th>Total_Trans_Amt</th>\n",
              "      <th>Total_Trans_Ct</th>\n",
              "      <th>Total_Ct_Chng_Q4_Q1</th>\n",
              "      <th>Avg_Utilization_Ratio</th>\n",
              "      <th>Naive_Bayes_Classifier_Attrition_Flag_Card_Category_Contacts_Count_12_mon_Dependent_count_Education_Level_Months_Inactive_12_mon_1</th>\n",
              "      <th>Naive_Bayes_Classifier_Attrition_Flag_Card_Category_Contacts_Count_12_mon_Dependent_count_Education_Level_Months_Inactive_12_mon_2</th>\n",
              "    </tr>\n",
              "  </thead>\n",
              "  <tbody>\n",
              "    <tr>\n",
              "      <th>0</th>\n",
              "      <td>768805383</td>\n",
              "      <td>Existing Customer</td>\n",
              "      <td>45</td>\n",
              "      <td>M</td>\n",
              "      <td>3</td>\n",
              "      <td>High School</td>\n",
              "      <td>Married</td>\n",
              "      <td>$60K - $80K</td>\n",
              "      <td>Blue</td>\n",
              "      <td>39</td>\n",
              "      <td>5</td>\n",
              "      <td>1</td>\n",
              "      <td>3</td>\n",
              "      <td>12691.0</td>\n",
              "      <td>777</td>\n",
              "      <td>11914.0</td>\n",
              "      <td>1.335</td>\n",
              "      <td>1144</td>\n",
              "      <td>42</td>\n",
              "      <td>1.625</td>\n",
              "      <td>0.061</td>\n",
              "      <td>0.000093</td>\n",
              "      <td>0.99991</td>\n",
              "    </tr>\n",
              "    <tr>\n",
              "      <th>1</th>\n",
              "      <td>818770008</td>\n",
              "      <td>Existing Customer</td>\n",
              "      <td>49</td>\n",
              "      <td>F</td>\n",
              "      <td>5</td>\n",
              "      <td>Graduate</td>\n",
              "      <td>Single</td>\n",
              "      <td>Less than $40K</td>\n",
              "      <td>Blue</td>\n",
              "      <td>44</td>\n",
              "      <td>6</td>\n",
              "      <td>1</td>\n",
              "      <td>2</td>\n",
              "      <td>8256.0</td>\n",
              "      <td>864</td>\n",
              "      <td>7392.0</td>\n",
              "      <td>1.541</td>\n",
              "      <td>1291</td>\n",
              "      <td>33</td>\n",
              "      <td>3.714</td>\n",
              "      <td>0.105</td>\n",
              "      <td>0.000057</td>\n",
              "      <td>0.99994</td>\n",
              "    </tr>\n",
              "    <tr>\n",
              "      <th>2</th>\n",
              "      <td>713982108</td>\n",
              "      <td>Existing Customer</td>\n",
              "      <td>51</td>\n",
              "      <td>M</td>\n",
              "      <td>3</td>\n",
              "      <td>Graduate</td>\n",
              "      <td>Married</td>\n",
              "      <td>$80K - $120K</td>\n",
              "      <td>Blue</td>\n",
              "      <td>36</td>\n",
              "      <td>4</td>\n",
              "      <td>1</td>\n",
              "      <td>0</td>\n",
              "      <td>3418.0</td>\n",
              "      <td>0</td>\n",
              "      <td>3418.0</td>\n",
              "      <td>2.594</td>\n",
              "      <td>1887</td>\n",
              "      <td>20</td>\n",
              "      <td>2.333</td>\n",
              "      <td>0.000</td>\n",
              "      <td>0.000021</td>\n",
              "      <td>0.99998</td>\n",
              "    </tr>\n",
              "    <tr>\n",
              "      <th>3</th>\n",
              "      <td>769911858</td>\n",
              "      <td>Existing Customer</td>\n",
              "      <td>40</td>\n",
              "      <td>F</td>\n",
              "      <td>4</td>\n",
              "      <td>High School</td>\n",
              "      <td>Unknown</td>\n",
              "      <td>Less than $40K</td>\n",
              "      <td>Blue</td>\n",
              "      <td>34</td>\n",
              "      <td>3</td>\n",
              "      <td>4</td>\n",
              "      <td>1</td>\n",
              "      <td>3313.0</td>\n",
              "      <td>2517</td>\n",
              "      <td>796.0</td>\n",
              "      <td>1.405</td>\n",
              "      <td>1171</td>\n",
              "      <td>20</td>\n",
              "      <td>2.333</td>\n",
              "      <td>0.760</td>\n",
              "      <td>0.000134</td>\n",
              "      <td>0.99987</td>\n",
              "    </tr>\n",
              "    <tr>\n",
              "      <th>4</th>\n",
              "      <td>709106358</td>\n",
              "      <td>Existing Customer</td>\n",
              "      <td>40</td>\n",
              "      <td>M</td>\n",
              "      <td>3</td>\n",
              "      <td>Uneducated</td>\n",
              "      <td>Married</td>\n",
              "      <td>$60K - $80K</td>\n",
              "      <td>Blue</td>\n",
              "      <td>21</td>\n",
              "      <td>5</td>\n",
              "      <td>1</td>\n",
              "      <td>0</td>\n",
              "      <td>4716.0</td>\n",
              "      <td>0</td>\n",
              "      <td>4716.0</td>\n",
              "      <td>2.175</td>\n",
              "      <td>816</td>\n",
              "      <td>28</td>\n",
              "      <td>2.500</td>\n",
              "      <td>0.000</td>\n",
              "      <td>0.000022</td>\n",
              "      <td>0.99998</td>\n",
              "    </tr>\n",
              "  </tbody>\n",
              "</table>\n",
              "</div>"
            ],
            "text/plain": [
              "   CLIENTNUM  ... Naive_Bayes_Classifier_Attrition_Flag_Card_Category_Contacts_Count_12_mon_Dependent_count_Education_Level_Months_Inactive_12_mon_2\n",
              "0  768805383  ...                                            0.99991                                                                                \n",
              "1  818770008  ...                                            0.99994                                                                                \n",
              "2  713982108  ...                                            0.99998                                                                                \n",
              "3  769911858  ...                                            0.99987                                                                                \n",
              "4  709106358  ...                                            0.99998                                                                                \n",
              "\n",
              "[5 rows x 23 columns]"
            ]
          },
          "metadata": {
            "tags": []
          },
          "execution_count": 3
        }
      ]
    },
    {
      "cell_type": "markdown",
      "metadata": {
        "papermill": {
          "duration": 0.071283,
          "end_time": "2021-08-17T03:18:56.988715",
          "exception": false,
          "start_time": "2021-08-17T03:18:56.917432",
          "status": "completed"
        },
        "tags": [],
        "id": "4b6bf0af"
      },
      "source": [
        "# 1. Understanding the Data"
      ],
      "id": "4b6bf0af"
    },
    {
      "cell_type": "markdown",
      "metadata": {
        "papermill": {
          "duration": 0.073073,
          "end_time": "2021-08-17T03:18:57.133960",
          "exception": false,
          "start_time": "2021-08-17T03:18:57.060887",
          "status": "completed"
        },
        "tags": [],
        "id": "54843e15"
      },
      "source": [
        "> Based on the note from the data source, I decided to ignore the last 2 columns of the data, so the first thing I did was I had to delete it so it wouldn't interfere when analyzing the overall data"
      ],
      "id": "54843e15"
    },
    {
      "cell_type": "code",
      "metadata": {
        "execution": {
          "iopub.execute_input": "2021-08-17T03:18:57.290934Z",
          "iopub.status.busy": "2021-08-17T03:18:57.289047Z",
          "iopub.status.idle": "2021-08-17T03:18:57.364057Z",
          "shell.execute_reply": "2021-08-17T03:18:57.364933Z",
          "shell.execute_reply.started": "2021-08-17T02:18:17.502608Z"
        },
        "papermill": {
          "duration": 0.155303,
          "end_time": "2021-08-17T03:18:57.365344",
          "exception": false,
          "start_time": "2021-08-17T03:18:57.210041",
          "status": "completed"
        },
        "tags": [],
        "colab": {
          "base_uri": "https://localhost:8080/",
          "height": 604
        },
        "id": "30657b06",
        "outputId": "9434dab8-8d80-43c1-babf-3efdd44042cf"
      },
      "source": [
        "#Deleting the last 2 columns\n",
        "data.drop(columns=['Naive_Bayes_Classifier_Attrition_Flag_Card_Category_Contacts_Count_12_mon_Dependent_count_Education_Level_Months_Inactive_12_mon_1',\n",
        "                   'Naive_Bayes_Classifier_Attrition_Flag_Card_Category_Contacts_Count_12_mon_Dependent_count_Education_Level_Months_Inactive_12_mon_2',\n",
        "                   'CLIENTNUM'], \n",
        "          inplace=True, axis=1)\n",
        "data"
      ],
      "id": "30657b06",
      "execution_count": 4,
      "outputs": [
        {
          "output_type": "execute_result",
          "data": {
            "text/html": [
              "<div>\n",
              "<style scoped>\n",
              "    .dataframe tbody tr th:only-of-type {\n",
              "        vertical-align: middle;\n",
              "    }\n",
              "\n",
              "    .dataframe tbody tr th {\n",
              "        vertical-align: top;\n",
              "    }\n",
              "\n",
              "    .dataframe thead th {\n",
              "        text-align: right;\n",
              "    }\n",
              "</style>\n",
              "<table border=\"1\" class=\"dataframe\">\n",
              "  <thead>\n",
              "    <tr style=\"text-align: right;\">\n",
              "      <th></th>\n",
              "      <th>Attrition_Flag</th>\n",
              "      <th>Customer_Age</th>\n",
              "      <th>Gender</th>\n",
              "      <th>Dependent_count</th>\n",
              "      <th>Education_Level</th>\n",
              "      <th>Marital_Status</th>\n",
              "      <th>Income_Category</th>\n",
              "      <th>Card_Category</th>\n",
              "      <th>Months_on_book</th>\n",
              "      <th>Total_Relationship_Count</th>\n",
              "      <th>Months_Inactive_12_mon</th>\n",
              "      <th>Contacts_Count_12_mon</th>\n",
              "      <th>Credit_Limit</th>\n",
              "      <th>Total_Revolving_Bal</th>\n",
              "      <th>Avg_Open_To_Buy</th>\n",
              "      <th>Total_Amt_Chng_Q4_Q1</th>\n",
              "      <th>Total_Trans_Amt</th>\n",
              "      <th>Total_Trans_Ct</th>\n",
              "      <th>Total_Ct_Chng_Q4_Q1</th>\n",
              "      <th>Avg_Utilization_Ratio</th>\n",
              "    </tr>\n",
              "  </thead>\n",
              "  <tbody>\n",
              "    <tr>\n",
              "      <th>0</th>\n",
              "      <td>Existing Customer</td>\n",
              "      <td>45</td>\n",
              "      <td>M</td>\n",
              "      <td>3</td>\n",
              "      <td>High School</td>\n",
              "      <td>Married</td>\n",
              "      <td>$60K - $80K</td>\n",
              "      <td>Blue</td>\n",
              "      <td>39</td>\n",
              "      <td>5</td>\n",
              "      <td>1</td>\n",
              "      <td>3</td>\n",
              "      <td>12691.0</td>\n",
              "      <td>777</td>\n",
              "      <td>11914.0</td>\n",
              "      <td>1.335</td>\n",
              "      <td>1144</td>\n",
              "      <td>42</td>\n",
              "      <td>1.625</td>\n",
              "      <td>0.061</td>\n",
              "    </tr>\n",
              "    <tr>\n",
              "      <th>1</th>\n",
              "      <td>Existing Customer</td>\n",
              "      <td>49</td>\n",
              "      <td>F</td>\n",
              "      <td>5</td>\n",
              "      <td>Graduate</td>\n",
              "      <td>Single</td>\n",
              "      <td>Less than $40K</td>\n",
              "      <td>Blue</td>\n",
              "      <td>44</td>\n",
              "      <td>6</td>\n",
              "      <td>1</td>\n",
              "      <td>2</td>\n",
              "      <td>8256.0</td>\n",
              "      <td>864</td>\n",
              "      <td>7392.0</td>\n",
              "      <td>1.541</td>\n",
              "      <td>1291</td>\n",
              "      <td>33</td>\n",
              "      <td>3.714</td>\n",
              "      <td>0.105</td>\n",
              "    </tr>\n",
              "    <tr>\n",
              "      <th>2</th>\n",
              "      <td>Existing Customer</td>\n",
              "      <td>51</td>\n",
              "      <td>M</td>\n",
              "      <td>3</td>\n",
              "      <td>Graduate</td>\n",
              "      <td>Married</td>\n",
              "      <td>$80K - $120K</td>\n",
              "      <td>Blue</td>\n",
              "      <td>36</td>\n",
              "      <td>4</td>\n",
              "      <td>1</td>\n",
              "      <td>0</td>\n",
              "      <td>3418.0</td>\n",
              "      <td>0</td>\n",
              "      <td>3418.0</td>\n",
              "      <td>2.594</td>\n",
              "      <td>1887</td>\n",
              "      <td>20</td>\n",
              "      <td>2.333</td>\n",
              "      <td>0.000</td>\n",
              "    </tr>\n",
              "    <tr>\n",
              "      <th>3</th>\n",
              "      <td>Existing Customer</td>\n",
              "      <td>40</td>\n",
              "      <td>F</td>\n",
              "      <td>4</td>\n",
              "      <td>High School</td>\n",
              "      <td>Unknown</td>\n",
              "      <td>Less than $40K</td>\n",
              "      <td>Blue</td>\n",
              "      <td>34</td>\n",
              "      <td>3</td>\n",
              "      <td>4</td>\n",
              "      <td>1</td>\n",
              "      <td>3313.0</td>\n",
              "      <td>2517</td>\n",
              "      <td>796.0</td>\n",
              "      <td>1.405</td>\n",
              "      <td>1171</td>\n",
              "      <td>20</td>\n",
              "      <td>2.333</td>\n",
              "      <td>0.760</td>\n",
              "    </tr>\n",
              "    <tr>\n",
              "      <th>4</th>\n",
              "      <td>Existing Customer</td>\n",
              "      <td>40</td>\n",
              "      <td>M</td>\n",
              "      <td>3</td>\n",
              "      <td>Uneducated</td>\n",
              "      <td>Married</td>\n",
              "      <td>$60K - $80K</td>\n",
              "      <td>Blue</td>\n",
              "      <td>21</td>\n",
              "      <td>5</td>\n",
              "      <td>1</td>\n",
              "      <td>0</td>\n",
              "      <td>4716.0</td>\n",
              "      <td>0</td>\n",
              "      <td>4716.0</td>\n",
              "      <td>2.175</td>\n",
              "      <td>816</td>\n",
              "      <td>28</td>\n",
              "      <td>2.500</td>\n",
              "      <td>0.000</td>\n",
              "    </tr>\n",
              "    <tr>\n",
              "      <th>...</th>\n",
              "      <td>...</td>\n",
              "      <td>...</td>\n",
              "      <td>...</td>\n",
              "      <td>...</td>\n",
              "      <td>...</td>\n",
              "      <td>...</td>\n",
              "      <td>...</td>\n",
              "      <td>...</td>\n",
              "      <td>...</td>\n",
              "      <td>...</td>\n",
              "      <td>...</td>\n",
              "      <td>...</td>\n",
              "      <td>...</td>\n",
              "      <td>...</td>\n",
              "      <td>...</td>\n",
              "      <td>...</td>\n",
              "      <td>...</td>\n",
              "      <td>...</td>\n",
              "      <td>...</td>\n",
              "      <td>...</td>\n",
              "    </tr>\n",
              "    <tr>\n",
              "      <th>10122</th>\n",
              "      <td>Existing Customer</td>\n",
              "      <td>50</td>\n",
              "      <td>M</td>\n",
              "      <td>2</td>\n",
              "      <td>Graduate</td>\n",
              "      <td>Single</td>\n",
              "      <td>$40K - $60K</td>\n",
              "      <td>Blue</td>\n",
              "      <td>40</td>\n",
              "      <td>3</td>\n",
              "      <td>2</td>\n",
              "      <td>3</td>\n",
              "      <td>4003.0</td>\n",
              "      <td>1851</td>\n",
              "      <td>2152.0</td>\n",
              "      <td>0.703</td>\n",
              "      <td>15476</td>\n",
              "      <td>117</td>\n",
              "      <td>0.857</td>\n",
              "      <td>0.462</td>\n",
              "    </tr>\n",
              "    <tr>\n",
              "      <th>10123</th>\n",
              "      <td>Attrited Customer</td>\n",
              "      <td>41</td>\n",
              "      <td>M</td>\n",
              "      <td>2</td>\n",
              "      <td>Unknown</td>\n",
              "      <td>Divorced</td>\n",
              "      <td>$40K - $60K</td>\n",
              "      <td>Blue</td>\n",
              "      <td>25</td>\n",
              "      <td>4</td>\n",
              "      <td>2</td>\n",
              "      <td>3</td>\n",
              "      <td>4277.0</td>\n",
              "      <td>2186</td>\n",
              "      <td>2091.0</td>\n",
              "      <td>0.804</td>\n",
              "      <td>8764</td>\n",
              "      <td>69</td>\n",
              "      <td>0.683</td>\n",
              "      <td>0.511</td>\n",
              "    </tr>\n",
              "    <tr>\n",
              "      <th>10124</th>\n",
              "      <td>Attrited Customer</td>\n",
              "      <td>44</td>\n",
              "      <td>F</td>\n",
              "      <td>1</td>\n",
              "      <td>High School</td>\n",
              "      <td>Married</td>\n",
              "      <td>Less than $40K</td>\n",
              "      <td>Blue</td>\n",
              "      <td>36</td>\n",
              "      <td>5</td>\n",
              "      <td>3</td>\n",
              "      <td>4</td>\n",
              "      <td>5409.0</td>\n",
              "      <td>0</td>\n",
              "      <td>5409.0</td>\n",
              "      <td>0.819</td>\n",
              "      <td>10291</td>\n",
              "      <td>60</td>\n",
              "      <td>0.818</td>\n",
              "      <td>0.000</td>\n",
              "    </tr>\n",
              "    <tr>\n",
              "      <th>10125</th>\n",
              "      <td>Attrited Customer</td>\n",
              "      <td>30</td>\n",
              "      <td>M</td>\n",
              "      <td>2</td>\n",
              "      <td>Graduate</td>\n",
              "      <td>Unknown</td>\n",
              "      <td>$40K - $60K</td>\n",
              "      <td>Blue</td>\n",
              "      <td>36</td>\n",
              "      <td>4</td>\n",
              "      <td>3</td>\n",
              "      <td>3</td>\n",
              "      <td>5281.0</td>\n",
              "      <td>0</td>\n",
              "      <td>5281.0</td>\n",
              "      <td>0.535</td>\n",
              "      <td>8395</td>\n",
              "      <td>62</td>\n",
              "      <td>0.722</td>\n",
              "      <td>0.000</td>\n",
              "    </tr>\n",
              "    <tr>\n",
              "      <th>10126</th>\n",
              "      <td>Attrited Customer</td>\n",
              "      <td>43</td>\n",
              "      <td>F</td>\n",
              "      <td>2</td>\n",
              "      <td>Graduate</td>\n",
              "      <td>Married</td>\n",
              "      <td>Less than $40K</td>\n",
              "      <td>Silver</td>\n",
              "      <td>25</td>\n",
              "      <td>6</td>\n",
              "      <td>2</td>\n",
              "      <td>4</td>\n",
              "      <td>10388.0</td>\n",
              "      <td>1961</td>\n",
              "      <td>8427.0</td>\n",
              "      <td>0.703</td>\n",
              "      <td>10294</td>\n",
              "      <td>61</td>\n",
              "      <td>0.649</td>\n",
              "      <td>0.189</td>\n",
              "    </tr>\n",
              "  </tbody>\n",
              "</table>\n",
              "<p>10127 rows × 20 columns</p>\n",
              "</div>"
            ],
            "text/plain": [
              "          Attrition_Flag  ...  Avg_Utilization_Ratio\n",
              "0      Existing Customer  ...                  0.061\n",
              "1      Existing Customer  ...                  0.105\n",
              "2      Existing Customer  ...                  0.000\n",
              "3      Existing Customer  ...                  0.760\n",
              "4      Existing Customer  ...                  0.000\n",
              "...                  ...  ...                    ...\n",
              "10122  Existing Customer  ...                  0.462\n",
              "10123  Attrited Customer  ...                  0.511\n",
              "10124  Attrited Customer  ...                  0.000\n",
              "10125  Attrited Customer  ...                  0.000\n",
              "10126  Attrited Customer  ...                  0.189\n",
              "\n",
              "[10127 rows x 20 columns]"
            ]
          },
          "metadata": {
            "tags": []
          },
          "execution_count": 4
        }
      ]
    },
    {
      "cell_type": "code",
      "metadata": {
        "execution": {
          "iopub.execute_input": "2021-08-17T03:18:57.520772Z",
          "iopub.status.busy": "2021-08-17T03:18:57.519862Z",
          "iopub.status.idle": "2021-08-17T03:18:57.533837Z",
          "shell.execute_reply": "2021-08-17T03:18:57.534551Z",
          "shell.execute_reply.started": "2021-08-17T02:18:17.538586Z"
        },
        "papermill": {
          "duration": 0.094475,
          "end_time": "2021-08-17T03:18:57.534864",
          "exception": false,
          "start_time": "2021-08-17T03:18:57.440389",
          "status": "completed"
        },
        "tags": [],
        "colab": {
          "base_uri": "https://localhost:8080/"
        },
        "id": "6850be69",
        "outputId": "bf128d08-427b-4da8-e8f9-a6515cd34adc"
      },
      "source": [
        "data.dtypes"
      ],
      "id": "6850be69",
      "execution_count": 5,
      "outputs": [
        {
          "output_type": "execute_result",
          "data": {
            "text/plain": [
              "Attrition_Flag               object\n",
              "Customer_Age                  int64\n",
              "Gender                       object\n",
              "Dependent_count               int64\n",
              "Education_Level              object\n",
              "Marital_Status               object\n",
              "Income_Category              object\n",
              "Card_Category                object\n",
              "Months_on_book                int64\n",
              "Total_Relationship_Count      int64\n",
              "Months_Inactive_12_mon        int64\n",
              "Contacts_Count_12_mon         int64\n",
              "Credit_Limit                float64\n",
              "Total_Revolving_Bal           int64\n",
              "Avg_Open_To_Buy             float64\n",
              "Total_Amt_Chng_Q4_Q1        float64\n",
              "Total_Trans_Amt               int64\n",
              "Total_Trans_Ct                int64\n",
              "Total_Ct_Chng_Q4_Q1         float64\n",
              "Avg_Utilization_Ratio       float64\n",
              "dtype: object"
            ]
          },
          "metadata": {
            "tags": []
          },
          "execution_count": 5
        }
      ]
    },
    {
      "cell_type": "markdown",
      "metadata": {
        "papermill": {
          "duration": 0.071649,
          "end_time": "2021-08-17T03:18:57.684569",
          "exception": false,
          "start_time": "2021-08-17T03:18:57.612920",
          "status": "completed"
        },
        "tags": [],
        "id": "ba24eac9"
      },
      "source": [
        "> Grouping columns by data type"
      ],
      "id": "ba24eac9"
    },
    {
      "cell_type": "code",
      "metadata": {
        "execution": {
          "iopub.execute_input": "2021-08-17T03:18:57.838660Z",
          "iopub.status.busy": "2021-08-17T03:18:57.837604Z",
          "iopub.status.idle": "2021-08-17T03:18:57.845607Z",
          "shell.execute_reply": "2021-08-17T03:18:57.846438Z",
          "shell.execute_reply.started": "2021-08-17T02:18:17.549181Z"
        },
        "papermill": {
          "duration": 0.087585,
          "end_time": "2021-08-17T03:18:57.846764",
          "exception": false,
          "start_time": "2021-08-17T03:18:57.759179",
          "status": "completed"
        },
        "tags": [],
        "id": "c5735d80"
      },
      "source": [
        "numerical_columns = [\"Customer_Age\", \n",
        "                     \"Months_on_book\", \n",
        "                     \"Credit_Limit\", \n",
        "                     \"Total_Revolving_Bal\", \n",
        "                     \"Avg_Open_To_Buy\", \n",
        "                     \"Total_Amt_Chng_Q4_Q1\", \n",
        "                     \"Total_Trans_Amt\", \n",
        "                     \"Total_Trans_Ct\", \n",
        "                     \"Total_Ct_Chng_Q4_Q1\", \n",
        "                     \"Avg_Utilization_Ratio\"]\n",
        "\n",
        "categorical_columns = ['Attrition_Flag',\n",
        "                       'Gender',\n",
        "                       'Education_Level',\n",
        "                       'Marital_Status',\n",
        "                       'Income_Category',\n",
        "                       'Card_Category']\n",
        "\n",
        "discrete_columns = ['CLIENTNUM',\n",
        "                    'Dependent_count',\n",
        "                    'Total_Relationship_Count',\n",
        "                    'Months_Inactive_12_mon',\n",
        "                    'Contacts_Count_12_mon']"
      ],
      "id": "c5735d80",
      "execution_count": 6,
      "outputs": []
    },
    {
      "cell_type": "markdown",
      "metadata": {
        "papermill": {
          "duration": 0.072514,
          "end_time": "2021-08-17T03:18:57.993884",
          "exception": false,
          "start_time": "2021-08-17T03:18:57.921370",
          "status": "completed"
        },
        "tags": [],
        "id": "1b332f7a"
      },
      "source": [
        "# **2. Identify the Data**"
      ],
      "id": "1b332f7a"
    },
    {
      "cell_type": "code",
      "metadata": {
        "execution": {
          "iopub.execute_input": "2021-08-17T03:18:58.165168Z",
          "iopub.status.busy": "2021-08-17T03:18:58.163685Z",
          "iopub.status.idle": "2021-08-17T03:18:58.201306Z",
          "shell.execute_reply": "2021-08-17T03:18:58.202405Z",
          "shell.execute_reply.started": "2021-08-17T02:18:17.560432Z"
        },
        "papermill": {
          "duration": 0.132068,
          "end_time": "2021-08-17T03:18:58.202657",
          "exception": false,
          "start_time": "2021-08-17T03:18:58.070589",
          "status": "completed"
        },
        "tags": [],
        "colab": {
          "base_uri": "https://localhost:8080/"
        },
        "id": "6faaa4c9",
        "outputId": "f51bb0a4-a06d-4267-fef9-53436c61bdfd"
      },
      "source": [
        "data.info()"
      ],
      "id": "6faaa4c9",
      "execution_count": 7,
      "outputs": [
        {
          "output_type": "stream",
          "text": [
            "<class 'pandas.core.frame.DataFrame'>\n",
            "RangeIndex: 10127 entries, 0 to 10126\n",
            "Data columns (total 20 columns):\n",
            " #   Column                    Non-Null Count  Dtype  \n",
            "---  ------                    --------------  -----  \n",
            " 0   Attrition_Flag            10127 non-null  object \n",
            " 1   Customer_Age              10127 non-null  int64  \n",
            " 2   Gender                    10127 non-null  object \n",
            " 3   Dependent_count           10127 non-null  int64  \n",
            " 4   Education_Level           10127 non-null  object \n",
            " 5   Marital_Status            10127 non-null  object \n",
            " 6   Income_Category           10127 non-null  object \n",
            " 7   Card_Category             10127 non-null  object \n",
            " 8   Months_on_book            10127 non-null  int64  \n",
            " 9   Total_Relationship_Count  10127 non-null  int64  \n",
            " 10  Months_Inactive_12_mon    10127 non-null  int64  \n",
            " 11  Contacts_Count_12_mon     10127 non-null  int64  \n",
            " 12  Credit_Limit              10127 non-null  float64\n",
            " 13  Total_Revolving_Bal       10127 non-null  int64  \n",
            " 14  Avg_Open_To_Buy           10127 non-null  float64\n",
            " 15  Total_Amt_Chng_Q4_Q1      10127 non-null  float64\n",
            " 16  Total_Trans_Amt           10127 non-null  int64  \n",
            " 17  Total_Trans_Ct            10127 non-null  int64  \n",
            " 18  Total_Ct_Chng_Q4_Q1       10127 non-null  float64\n",
            " 19  Avg_Utilization_Ratio     10127 non-null  float64\n",
            "dtypes: float64(5), int64(9), object(6)\n",
            "memory usage: 1.5+ MB\n"
          ],
          "name": "stdout"
        }
      ]
    },
    {
      "cell_type": "code",
      "metadata": {
        "execution": {
          "iopub.execute_input": "2021-08-17T03:18:58.407422Z",
          "iopub.status.busy": "2021-08-17T03:18:58.406556Z",
          "iopub.status.idle": "2021-08-17T03:18:58.450471Z",
          "shell.execute_reply": "2021-08-17T03:18:58.449723Z",
          "shell.execute_reply.started": "2021-08-17T02:18:17.594404Z"
        },
        "papermill": {
          "duration": 0.128845,
          "end_time": "2021-08-17T03:18:58.450678",
          "exception": false,
          "start_time": "2021-08-17T03:18:58.321833",
          "status": "completed"
        },
        "tags": [],
        "colab": {
          "base_uri": "https://localhost:8080/"
        },
        "id": "cc8b9347",
        "outputId": "04e5e6cf-9b4c-4068-d683-4e8e30dd8284"
      },
      "source": [
        "print(data.duplicated().sum())\n",
        "print(data.isnull().sum())"
      ],
      "id": "cc8b9347",
      "execution_count": 8,
      "outputs": [
        {
          "output_type": "stream",
          "text": [
            "0\n",
            "Attrition_Flag              0\n",
            "Customer_Age                0\n",
            "Gender                      0\n",
            "Dependent_count             0\n",
            "Education_Level             0\n",
            "Marital_Status              0\n",
            "Income_Category             0\n",
            "Card_Category               0\n",
            "Months_on_book              0\n",
            "Total_Relationship_Count    0\n",
            "Months_Inactive_12_mon      0\n",
            "Contacts_Count_12_mon       0\n",
            "Credit_Limit                0\n",
            "Total_Revolving_Bal         0\n",
            "Avg_Open_To_Buy             0\n",
            "Total_Amt_Chng_Q4_Q1        0\n",
            "Total_Trans_Amt             0\n",
            "Total_Trans_Ct              0\n",
            "Total_Ct_Chng_Q4_Q1         0\n",
            "Avg_Utilization_Ratio       0\n",
            "dtype: int64\n"
          ],
          "name": "stdout"
        }
      ]
    },
    {
      "cell_type": "markdown",
      "metadata": {
        "papermill": {
          "duration": 0.073693,
          "end_time": "2021-08-17T03:18:58.599965",
          "exception": false,
          "start_time": "2021-08-17T03:18:58.526272",
          "status": "completed"
        },
        "tags": [],
        "id": "7acac4ea"
      },
      "source": [
        "Because there are no null values and duplicated values found, it can be said that this data is clean, and can be continued for data analysis by looking at the distribution of the data."
      ],
      "id": "7acac4ea"
    },
    {
      "cell_type": "code",
      "metadata": {
        "execution": {
          "iopub.execute_input": "2021-08-17T03:18:58.794911Z",
          "iopub.status.busy": "2021-08-17T03:18:58.793787Z",
          "iopub.status.idle": "2021-08-17T03:19:04.712619Z",
          "shell.execute_reply": "2021-08-17T03:19:04.713534Z",
          "shell.execute_reply.started": "2021-08-17T02:18:17.619648Z"
        },
        "papermill": {
          "duration": 6.036692,
          "end_time": "2021-08-17T03:19:04.713935",
          "exception": false,
          "start_time": "2021-08-17T03:18:58.677243",
          "status": "completed"
        },
        "tags": [],
        "colab": {
          "base_uri": "https://localhost:8080/",
          "height": 1000
        },
        "id": "0ab88aa7",
        "outputId": "486deeaf-8054-4b2a-bec9-811a29b33812"
      },
      "source": [
        "# Numerical Value \n",
        "fig, axes = plt.subplots(5,2, figsize=(15,16))\n",
        "axes = [ax for axes_row in axes for ax in axes_row]\n",
        "\n",
        "for i, col in enumerate(numerical_columns):\n",
        "  plot = sns.histplot(data=data, x=col, ax=axes[i], fill=True)\n",
        "plt.tight_layout()"
      ],
      "id": "0ab88aa7",
      "execution_count": 9,
      "outputs": [
        {
          "output_type": "display_data",
          "data": {
            "image/png": "[encoded data removed]",
            "text/plain": [
              "<Figure size 1080x1152 with 10 Axes>"
            ]
          },
          "metadata": {
            "tags": [],
            "needs_background": "light"
          }
        }
      ]
    },
    {
      "cell_type": "code",
      "metadata": {
        "execution": {
          "iopub.execute_input": "2021-08-17T03:19:04.876282Z",
          "iopub.status.busy": "2021-08-17T03:19:04.875342Z",
          "iopub.status.idle": "2021-08-17T03:19:07.185838Z",
          "shell.execute_reply": "2021-08-17T03:19:07.186438Z",
          "shell.execute_reply.started": "2021-08-17T02:18:20.754515Z"
        },
        "papermill": {
          "duration": 2.394123,
          "end_time": "2021-08-17T03:19:07.186697",
          "exception": false,
          "start_time": "2021-08-17T03:19:04.792574",
          "status": "completed"
        },
        "tags": [],
        "colab": {
          "base_uri": "https://localhost:8080/",
          "height": 800
        },
        "id": "8b64984b",
        "outputId": "bea6b0c8-e997-49c1-8a1a-62e8c5c7004a"
      },
      "source": [
        "# Categorical Value\n",
        "fig, axes = plt.subplots(3,2, figsize=(15,11))\n",
        "axes = [ax for axes_row in axes for ax in axes_row]\n",
        "\n",
        "for i, col in enumerate(categorical_columns):\n",
        "  data[col].value_counts()[::-1].plot(kind='barh',ax=axes[i], title=col, fontsize=14)\n",
        "  axes[i].set_ylabel('')\n",
        "plt.tight_layout()"
      ],
      "id": "8b64984b",
      "execution_count": 10,
      "outputs": [
        {
          "output_type": "display_data",
          "data": {
            "image/png": "[encoded data removed]",
            "text/plain": [
              "<Figure size 1080x792 with 6 Axes>"
            ]
          },
          "metadata": {
            "tags": [],
            "needs_background": "light"
          }
        }
      ]
    },
    {
      "cell_type": "markdown",
      "metadata": {
        "papermill": {
          "duration": 0.085735,
          "end_time": "2021-08-17T03:19:07.355563",
          "exception": false,
          "start_time": "2021-08-17T03:19:07.269828",
          "status": "completed"
        },
        "tags": [],
        "id": "6ebd68b5"
      },
      "source": [
        "# **3. Analyze the Data**"
      ],
      "id": "6ebd68b5"
    },
    {
      "cell_type": "markdown",
      "metadata": {
        "papermill": {
          "duration": 0.081992,
          "end_time": "2021-08-17T03:19:07.520551",
          "exception": false,
          "start_time": "2021-08-17T03:19:07.438559",
          "status": "completed"
        },
        "tags": [],
        "id": "e2fa7688"
      },
      "source": [
        "> **Analyze the data better focus on attrition_Flag column to dig more information about churning customers**\n",
        "\n",
        "> The first analysis is to look for outliers values, because these values must be determined to see the pattern of distribution so that we can study the data better.\n",
        "\n",
        "> To find outliers, it is necessary to pay attention to using a boxplot chart"
      ],
      "id": "e2fa7688"
    },
    {
      "cell_type": "code",
      "metadata": {
        "execution": {
          "iopub.execute_input": "2021-08-17T03:19:07.761241Z",
          "iopub.status.busy": "2021-08-17T03:19:07.727533Z",
          "iopub.status.idle": "2021-08-17T03:19:10.784407Z",
          "shell.execute_reply": "2021-08-17T03:19:10.785265Z",
          "shell.execute_reply.started": "2021-08-17T02:18:21.976487Z"
        },
        "papermill": {
          "duration": 3.180518,
          "end_time": "2021-08-17T03:19:10.785515",
          "exception": false,
          "start_time": "2021-08-17T03:19:07.604997",
          "status": "completed"
        },
        "tags": [],
        "colab": {
          "base_uri": "https://localhost:8080/",
          "height": 1000
        },
        "id": "44158384",
        "outputId": "3f5592cf-d32a-4015-d2fe-3bdd03189b59"
      },
      "source": [
        "fig, axes = plt.subplots(5,2, figsize=(14,24))\n",
        "axes = [ax for axes_row in axes for ax in axes_row]\n",
        "\n",
        "for i, col in enumerate(numerical_columns):\n",
        "    plot = sns.boxplot(data=data, y=col, x='Attrition_Flag', ax=axes[i])\n",
        "plt.tight_layout()"
      ],
      "id": "44158384",
      "execution_count": 11,
      "outputs": [
        {
          "output_type": "display_data",
          "data": {
            "image/png": "[encoded data removed]",
            "text/plain": [
              "<Figure size 1008x1728 with 10 Axes>"
            ]
          },
          "metadata": {
            "tags": [],
            "needs_background": "light"
          }
        }
      ]
    },
    {
      "cell_type": "markdown",
      "metadata": {
        "papermill": {
          "duration": 0.085404,
          "end_time": "2021-08-17T03:19:10.954122",
          "exception": false,
          "start_time": "2021-08-17T03:19:10.868718",
          "status": "completed"
        },
        "tags": [],
        "id": "23a53b63"
      },
      "source": [
        "# **4. Data Pre-Processing**"
      ],
      "id": "23a53b63"
    },
    {
      "cell_type": "markdown",
      "metadata": {
        "papermill": {
          "duration": 0.087607,
          "end_time": "2021-08-17T03:19:11.126555",
          "exception": false,
          "start_time": "2021-08-17T03:19:11.038948",
          "status": "completed"
        },
        "tags": [],
        "id": "58e3cf2d"
      },
      "source": [
        "# Label Eencoding for Target Value"
      ],
      "id": "58e3cf2d"
    },
    {
      "cell_type": "markdown",
      "metadata": {
        "papermill": {
          "duration": 0.079744,
          "end_time": "2021-08-17T03:19:11.293105",
          "exception": false,
          "start_time": "2021-08-17T03:19:11.213361",
          "status": "completed"
        },
        "tags": [],
        "id": "e75598d1"
      },
      "source": [
        "> Then the analysis continues by seeing how the level of correlation between all columns, but the first do Label Encoder to change \"Existing Customer\" = 1, and \"Attrited Customer\" = 0"
      ],
      "id": "e75598d1"
    },
    {
      "cell_type": "code",
      "metadata": {
        "execution": {
          "iopub.execute_input": "2021-08-17T03:19:11.462190Z",
          "iopub.status.busy": "2021-08-17T03:19:11.461016Z",
          "iopub.status.idle": "2021-08-17T03:19:11.680002Z",
          "shell.execute_reply": "2021-08-17T03:19:11.679363Z",
          "shell.execute_reply.started": "2021-08-17T02:18:23.612840Z"
        },
        "papermill": {
          "duration": 0.308207,
          "end_time": "2021-08-17T03:19:11.680208",
          "exception": false,
          "start_time": "2021-08-17T03:19:11.372001",
          "status": "completed"
        },
        "tags": [],
        "colab": {
          "base_uri": "https://localhost:8080/",
          "height": 222
        },
        "id": "e8864410",
        "outputId": "0a1856bc-deb7-4c41-af44-b7d084fff18a"
      },
      "source": [
        "from sklearn.preprocessing import LabelEncoder\n",
        "label = LabelEncoder()\n",
        "\n",
        "data['Attrition_Flag'] = label.fit_transform(data['Attrition_Flag'])\n",
        "data.head()"
      ],
      "id": "e8864410",
      "execution_count": 12,
      "outputs": [
        {
          "output_type": "execute_result",
          "data": {
            "text/html": [
              "<div>\n",
              "<style scoped>\n",
              "    .dataframe tbody tr th:only-of-type {\n",
              "        vertical-align: middle;\n",
              "    }\n",
              "\n",
              "    .dataframe tbody tr th {\n",
              "        vertical-align: top;\n",
              "    }\n",
              "\n",
              "    .dataframe thead th {\n",
              "        text-align: right;\n",
              "    }\n",
              "</style>\n",
              "<table border=\"1\" class=\"dataframe\">\n",
              "  <thead>\n",
              "    <tr style=\"text-align: right;\">\n",
              "      <th></th>\n",
              "      <th>Attrition_Flag</th>\n",
              "      <th>Customer_Age</th>\n",
              "      <th>Gender</th>\n",
              "      <th>Dependent_count</th>\n",
              "      <th>Education_Level</th>\n",
              "      <th>Marital_Status</th>\n",
              "      <th>Income_Category</th>\n",
              "      <th>Card_Category</th>\n",
              "      <th>Months_on_book</th>\n",
              "      <th>Total_Relationship_Count</th>\n",
              "      <th>Months_Inactive_12_mon</th>\n",
              "      <th>Contacts_Count_12_mon</th>\n",
              "      <th>Credit_Limit</th>\n",
              "      <th>Total_Revolving_Bal</th>\n",
              "      <th>Avg_Open_To_Buy</th>\n",
              "      <th>Total_Amt_Chng_Q4_Q1</th>\n",
              "      <th>Total_Trans_Amt</th>\n",
              "      <th>Total_Trans_Ct</th>\n",
              "      <th>Total_Ct_Chng_Q4_Q1</th>\n",
              "      <th>Avg_Utilization_Ratio</th>\n",
              "    </tr>\n",
              "  </thead>\n",
              "  <tbody>\n",
              "    <tr>\n",
              "      <th>0</th>\n",
              "      <td>1</td>\n",
              "      <td>45</td>\n",
              "      <td>M</td>\n",
              "      <td>3</td>\n",
              "      <td>High School</td>\n",
              "      <td>Married</td>\n",
              "      <td>$60K - $80K</td>\n",
              "      <td>Blue</td>\n",
              "      <td>39</td>\n",
              "      <td>5</td>\n",
              "      <td>1</td>\n",
              "      <td>3</td>\n",
              "      <td>12691.0</td>\n",
              "      <td>777</td>\n",
              "      <td>11914.0</td>\n",
              "      <td>1.335</td>\n",
              "      <td>1144</td>\n",
              "      <td>42</td>\n",
              "      <td>1.625</td>\n",
              "      <td>0.061</td>\n",
              "    </tr>\n",
              "    <tr>\n",
              "      <th>1</th>\n",
              "      <td>1</td>\n",
              "      <td>49</td>\n",
              "      <td>F</td>\n",
              "      <td>5</td>\n",
              "      <td>Graduate</td>\n",
              "      <td>Single</td>\n",
              "      <td>Less than $40K</td>\n",
              "      <td>Blue</td>\n",
              "      <td>44</td>\n",
              "      <td>6</td>\n",
              "      <td>1</td>\n",
              "      <td>2</td>\n",
              "      <td>8256.0</td>\n",
              "      <td>864</td>\n",
              "      <td>7392.0</td>\n",
              "      <td>1.541</td>\n",
              "      <td>1291</td>\n",
              "      <td>33</td>\n",
              "      <td>3.714</td>\n",
              "      <td>0.105</td>\n",
              "    </tr>\n",
              "    <tr>\n",
              "      <th>2</th>\n",
              "      <td>1</td>\n",
              "      <td>51</td>\n",
              "      <td>M</td>\n",
              "      <td>3</td>\n",
              "      <td>Graduate</td>\n",
              "      <td>Married</td>\n",
              "      <td>$80K - $120K</td>\n",
              "      <td>Blue</td>\n",
              "      <td>36</td>\n",
              "      <td>4</td>\n",
              "      <td>1</td>\n",
              "      <td>0</td>\n",
              "      <td>3418.0</td>\n",
              "      <td>0</td>\n",
              "      <td>3418.0</td>\n",
              "      <td>2.594</td>\n",
              "      <td>1887</td>\n",
              "      <td>20</td>\n",
              "      <td>2.333</td>\n",
              "      <td>0.000</td>\n",
              "    </tr>\n",
              "    <tr>\n",
              "      <th>3</th>\n",
              "      <td>1</td>\n",
              "      <td>40</td>\n",
              "      <td>F</td>\n",
              "      <td>4</td>\n",
              "      <td>High School</td>\n",
              "      <td>Unknown</td>\n",
              "      <td>Less than $40K</td>\n",
              "      <td>Blue</td>\n",
              "      <td>34</td>\n",
              "      <td>3</td>\n",
              "      <td>4</td>\n",
              "      <td>1</td>\n",
              "      <td>3313.0</td>\n",
              "      <td>2517</td>\n",
              "      <td>796.0</td>\n",
              "      <td>1.405</td>\n",
              "      <td>1171</td>\n",
              "      <td>20</td>\n",
              "      <td>2.333</td>\n",
              "      <td>0.760</td>\n",
              "    </tr>\n",
              "    <tr>\n",
              "      <th>4</th>\n",
              "      <td>1</td>\n",
              "      <td>40</td>\n",
              "      <td>M</td>\n",
              "      <td>3</td>\n",
              "      <td>Uneducated</td>\n",
              "      <td>Married</td>\n",
              "      <td>$60K - $80K</td>\n",
              "      <td>Blue</td>\n",
              "      <td>21</td>\n",
              "      <td>5</td>\n",
              "      <td>1</td>\n",
              "      <td>0</td>\n",
              "      <td>4716.0</td>\n",
              "      <td>0</td>\n",
              "      <td>4716.0</td>\n",
              "      <td>2.175</td>\n",
              "      <td>816</td>\n",
              "      <td>28</td>\n",
              "      <td>2.500</td>\n",
              "      <td>0.000</td>\n",
              "    </tr>\n",
              "  </tbody>\n",
              "</table>\n",
              "</div>"
            ],
            "text/plain": [
              "   Attrition_Flag  Customer_Age  ... Total_Ct_Chng_Q4_Q1  Avg_Utilization_Ratio\n",
              "0               1            45  ...               1.625                  0.061\n",
              "1               1            49  ...               3.714                  0.105\n",
              "2               1            51  ...               2.333                  0.000\n",
              "3               1            40  ...               2.333                  0.760\n",
              "4               1            40  ...               2.500                  0.000\n",
              "\n",
              "[5 rows x 20 columns]"
            ]
          },
          "metadata": {
            "tags": []
          },
          "execution_count": 12
        }
      ]
    },
    {
      "cell_type": "code",
      "metadata": {
        "execution": {
          "iopub.execute_input": "2021-08-17T03:19:11.860458Z",
          "iopub.status.busy": "2021-08-17T03:19:11.858692Z",
          "iopub.status.idle": "2021-08-17T03:19:13.962115Z",
          "shell.execute_reply": "2021-08-17T03:19:13.961302Z",
          "shell.execute_reply.started": "2021-08-17T02:18:23.640978Z"
        },
        "papermill": {
          "duration": 2.200564,
          "end_time": "2021-08-17T03:19:13.962351",
          "exception": false,
          "start_time": "2021-08-17T03:19:11.761787",
          "status": "completed"
        },
        "tags": [],
        "colab": {
          "base_uri": "https://localhost:8080/",
          "height": 548
        },
        "id": "783dcefc",
        "outputId": "9cacc5e8-ab5f-4708-ee7c-ac53a5ff6e2a"
      },
      "source": [
        "plt.figure(figsize=(12,7))\n",
        "ax = sns.heatmap(data.corr(), annot=True,cmap=\"YlGnBu\")\n",
        "cbar = ax.collections[0].colorbar\n",
        "cbar.set_ticks([0, .25, .50, .75, 1])\n",
        "cbar.set_ticklabels(['0%', '25%','50%', '75%', '100%'])\n",
        "plt.show()"
      ],
      "id": "783dcefc",
      "execution_count": 13,
      "outputs": [
        {
          "output_type": "display_data",
          "data": {
            "image/png": "[encoded data removed]",
            "text/plain": [
              "<Figure size 864x504 with 2 Axes>"
            ]
          },
          "metadata": {
            "tags": [],
            "needs_background": "light"
          }
        }
      ]
    },
    {
      "cell_type": "markdown",
      "metadata": {
        "papermill": {
          "duration": 0.093316,
          "end_time": "2021-08-17T03:19:14.148059",
          "exception": false,
          "start_time": "2021-08-17T03:19:14.054743",
          "status": "completed"
        },
        "tags": [],
        "id": "f794670b"
      },
      "source": [
        "# One Hot Encoding for Categorical Value"
      ],
      "id": "f794670b"
    },
    {
      "cell_type": "markdown",
      "metadata": {
        "papermill": {
          "duration": 0.092831,
          "end_time": "2021-08-17T03:19:14.334241",
          "exception": false,
          "start_time": "2021-08-17T03:19:14.241410",
          "status": "completed"
        },
        "tags": [],
        "id": "2a644865"
      },
      "source": [
        "Now we can know what column that has good corelation with \"attrition flag\" column"
      ],
      "id": "2a644865"
    },
    {
      "cell_type": "code",
      "metadata": {
        "execution": {
          "iopub.execute_input": "2021-08-17T03:19:14.527315Z",
          "iopub.status.busy": "2021-08-17T03:19:14.526071Z",
          "iopub.status.idle": "2021-08-17T03:19:14.600141Z",
          "shell.execute_reply": "2021-08-17T03:19:14.599457Z",
          "shell.execute_reply.started": "2021-08-17T02:18:24.907638Z"
        },
        "papermill": {
          "duration": 0.177693,
          "end_time": "2021-08-17T03:19:14.600344",
          "exception": false,
          "start_time": "2021-08-17T03:19:14.422651",
          "status": "completed"
        },
        "tags": [],
        "colab": {
          "base_uri": "https://localhost:8080/",
          "height": 273
        },
        "id": "7ab71753",
        "outputId": "43a45594-1df5-4e82-d0b7-4c646477d5d9"
      },
      "source": [
        "#performing one-hot encoding\n",
        "print('Before doing one-hot encoding',data.shape)\n",
        "data_dumm = pd.get_dummies(data, prefix_sep='_')\n",
        "print('After doing one-hot encoding',data_dumm.shape)\n",
        "data_dumm.head()"
      ],
      "id": "7ab71753",
      "execution_count": 14,
      "outputs": [
        {
          "output_type": "stream",
          "text": [
            "Before doing one-hot encoding (10127, 20)\n",
            "After doing one-hot encoding (10127, 38)\n"
          ],
          "name": "stdout"
        },
        {
          "output_type": "execute_result",
          "data": {
            "text/html": [
              "<div>\n",
              "<style scoped>\n",
              "    .dataframe tbody tr th:only-of-type {\n",
              "        vertical-align: middle;\n",
              "    }\n",
              "\n",
              "    .dataframe tbody tr th {\n",
              "        vertical-align: top;\n",
              "    }\n",
              "\n",
              "    .dataframe thead th {\n",
              "        text-align: right;\n",
              "    }\n",
              "</style>\n",
              "<table border=\"1\" class=\"dataframe\">\n",
              "  <thead>\n",
              "    <tr style=\"text-align: right;\">\n",
              "      <th></th>\n",
              "      <th>Attrition_Flag</th>\n",
              "      <th>Customer_Age</th>\n",
              "      <th>Dependent_count</th>\n",
              "      <th>Months_on_book</th>\n",
              "      <th>Total_Relationship_Count</th>\n",
              "      <th>Months_Inactive_12_mon</th>\n",
              "      <th>Contacts_Count_12_mon</th>\n",
              "      <th>Credit_Limit</th>\n",
              "      <th>Total_Revolving_Bal</th>\n",
              "      <th>Avg_Open_To_Buy</th>\n",
              "      <th>Total_Amt_Chng_Q4_Q1</th>\n",
              "      <th>Total_Trans_Amt</th>\n",
              "      <th>Total_Trans_Ct</th>\n",
              "      <th>Total_Ct_Chng_Q4_Q1</th>\n",
              "      <th>Avg_Utilization_Ratio</th>\n",
              "      <th>Gender_F</th>\n",
              "      <th>Gender_M</th>\n",
              "      <th>Education_Level_College</th>\n",
              "      <th>Education_Level_Doctorate</th>\n",
              "      <th>Education_Level_Graduate</th>\n",
              "      <th>Education_Level_High School</th>\n",
              "      <th>Education_Level_Post-Graduate</th>\n",
              "      <th>Education_Level_Uneducated</th>\n",
              "      <th>Education_Level_Unknown</th>\n",
              "      <th>Marital_Status_Divorced</th>\n",
              "      <th>Marital_Status_Married</th>\n",
              "      <th>Marital_Status_Single</th>\n",
              "      <th>Marital_Status_Unknown</th>\n",
              "      <th>Income_Category_$120K +</th>\n",
              "      <th>Income_Category_$40K - $60K</th>\n",
              "      <th>Income_Category_$60K - $80K</th>\n",
              "      <th>Income_Category_$80K - $120K</th>\n",
              "      <th>Income_Category_Less than $40K</th>\n",
              "      <th>Income_Category_Unknown</th>\n",
              "      <th>Card_Category_Blue</th>\n",
              "      <th>Card_Category_Gold</th>\n",
              "      <th>Card_Category_Platinum</th>\n",
              "      <th>Card_Category_Silver</th>\n",
              "    </tr>\n",
              "  </thead>\n",
              "  <tbody>\n",
              "    <tr>\n",
              "      <th>0</th>\n",
              "      <td>1</td>\n",
              "      <td>45</td>\n",
              "      <td>3</td>\n",
              "      <td>39</td>\n",
              "      <td>5</td>\n",
              "      <td>1</td>\n",
              "      <td>3</td>\n",
              "      <td>12691.0</td>\n",
              "      <td>777</td>\n",
              "      <td>11914.0</td>\n",
              "      <td>1.335</td>\n",
              "      <td>1144</td>\n",
              "      <td>42</td>\n",
              "      <td>1.625</td>\n",
              "      <td>0.061</td>\n",
              "      <td>0</td>\n",
              "      <td>1</td>\n",
              "      <td>0</td>\n",
              "      <td>0</td>\n",
              "      <td>0</td>\n",
              "      <td>1</td>\n",
              "      <td>0</td>\n",
              "      <td>0</td>\n",
              "      <td>0</td>\n",
              "      <td>0</td>\n",
              "      <td>1</td>\n",
              "      <td>0</td>\n",
              "      <td>0</td>\n",
              "      <td>0</td>\n",
              "      <td>0</td>\n",
              "      <td>1</td>\n",
              "      <td>0</td>\n",
              "      <td>0</td>\n",
              "      <td>0</td>\n",
              "      <td>1</td>\n",
              "      <td>0</td>\n",
              "      <td>0</td>\n",
              "      <td>0</td>\n",
              "    </tr>\n",
              "    <tr>\n",
              "      <th>1</th>\n",
              "      <td>1</td>\n",
              "      <td>49</td>\n",
              "      <td>5</td>\n",
              "      <td>44</td>\n",
              "      <td>6</td>\n",
              "      <td>1</td>\n",
              "      <td>2</td>\n",
              "      <td>8256.0</td>\n",
              "      <td>864</td>\n",
              "      <td>7392.0</td>\n",
              "      <td>1.541</td>\n",
              "      <td>1291</td>\n",
              "      <td>33</td>\n",
              "      <td>3.714</td>\n",
              "      <td>0.105</td>\n",
              "      <td>1</td>\n",
              "      <td>0</td>\n",
              "      <td>0</td>\n",
              "      <td>0</td>\n",
              "      <td>1</td>\n",
              "      <td>0</td>\n",
              "      <td>0</td>\n",
              "      <td>0</td>\n",
              "      <td>0</td>\n",
              "      <td>0</td>\n",
              "      <td>0</td>\n",
              "      <td>1</td>\n",
              "      <td>0</td>\n",
              "      <td>0</td>\n",
              "      <td>0</td>\n",
              "      <td>0</td>\n",
              "      <td>0</td>\n",
              "      <td>1</td>\n",
              "      <td>0</td>\n",
              "      <td>1</td>\n",
              "      <td>0</td>\n",
              "      <td>0</td>\n",
              "      <td>0</td>\n",
              "    </tr>\n",
              "    <tr>\n",
              "      <th>2</th>\n",
              "      <td>1</td>\n",
              "      <td>51</td>\n",
              "      <td>3</td>\n",
              "      <td>36</td>\n",
              "      <td>4</td>\n",
              "      <td>1</td>\n",
              "      <td>0</td>\n",
              "      <td>3418.0</td>\n",
              "      <td>0</td>\n",
              "      <td>3418.0</td>\n",
              "      <td>2.594</td>\n",
              "      <td>1887</td>\n",
              "      <td>20</td>\n",
              "      <td>2.333</td>\n",
              "      <td>0.000</td>\n",
              "      <td>0</td>\n",
              "      <td>1</td>\n",
              "      <td>0</td>\n",
              "      <td>0</td>\n",
              "      <td>1</td>\n",
              "      <td>0</td>\n",
              "      <td>0</td>\n",
              "      <td>0</td>\n",
              "      <td>0</td>\n",
              "      <td>0</td>\n",
              "      <td>1</td>\n",
              "      <td>0</td>\n",
              "      <td>0</td>\n",
              "      <td>0</td>\n",
              "      <td>0</td>\n",
              "      <td>0</td>\n",
              "      <td>1</td>\n",
              "      <td>0</td>\n",
              "      <td>0</td>\n",
              "      <td>1</td>\n",
              "      <td>0</td>\n",
              "      <td>0</td>\n",
              "      <td>0</td>\n",
              "    </tr>\n",
              "    <tr>\n",
              "      <th>3</th>\n",
              "      <td>1</td>\n",
              "      <td>40</td>\n",
              "      <td>4</td>\n",
              "      <td>34</td>\n",
              "      <td>3</td>\n",
              "      <td>4</td>\n",
              "      <td>1</td>\n",
              "      <td>3313.0</td>\n",
              "      <td>2517</td>\n",
              "      <td>796.0</td>\n",
              "      <td>1.405</td>\n",
              "      <td>1171</td>\n",
              "      <td>20</td>\n",
              "      <td>2.333</td>\n",
              "      <td>0.760</td>\n",
              "      <td>1</td>\n",
              "      <td>0</td>\n",
              "      <td>0</td>\n",
              "      <td>0</td>\n",
              "      <td>0</td>\n",
              "      <td>1</td>\n",
              "      <td>0</td>\n",
              "      <td>0</td>\n",
              "      <td>0</td>\n",
              "      <td>0</td>\n",
              "      <td>0</td>\n",
              "      <td>0</td>\n",
              "      <td>1</td>\n",
              "      <td>0</td>\n",
              "      <td>0</td>\n",
              "      <td>0</td>\n",
              "      <td>0</td>\n",
              "      <td>1</td>\n",
              "      <td>0</td>\n",
              "      <td>1</td>\n",
              "      <td>0</td>\n",
              "      <td>0</td>\n",
              "      <td>0</td>\n",
              "    </tr>\n",
              "    <tr>\n",
              "      <th>4</th>\n",
              "      <td>1</td>\n",
              "      <td>40</td>\n",
              "      <td>3</td>\n",
              "      <td>21</td>\n",
              "      <td>5</td>\n",
              "      <td>1</td>\n",
              "      <td>0</td>\n",
              "      <td>4716.0</td>\n",
              "      <td>0</td>\n",
              "      <td>4716.0</td>\n",
              "      <td>2.175</td>\n",
              "      <td>816</td>\n",
              "      <td>28</td>\n",
              "      <td>2.500</td>\n",
              "      <td>0.000</td>\n",
              "      <td>0</td>\n",
              "      <td>1</td>\n",
              "      <td>0</td>\n",
              "      <td>0</td>\n",
              "      <td>0</td>\n",
              "      <td>0</td>\n",
              "      <td>0</td>\n",
              "      <td>1</td>\n",
              "      <td>0</td>\n",
              "      <td>0</td>\n",
              "      <td>1</td>\n",
              "      <td>0</td>\n",
              "      <td>0</td>\n",
              "      <td>0</td>\n",
              "      <td>0</td>\n",
              "      <td>1</td>\n",
              "      <td>0</td>\n",
              "      <td>0</td>\n",
              "      <td>0</td>\n",
              "      <td>1</td>\n",
              "      <td>0</td>\n",
              "      <td>0</td>\n",
              "      <td>0</td>\n",
              "    </tr>\n",
              "  </tbody>\n",
              "</table>\n",
              "</div>"
            ],
            "text/plain": [
              "   Attrition_Flag  Customer_Age  ...  Card_Category_Platinum  Card_Category_Silver\n",
              "0               1            45  ...                       0                     0\n",
              "1               1            49  ...                       0                     0\n",
              "2               1            51  ...                       0                     0\n",
              "3               1            40  ...                       0                     0\n",
              "4               1            40  ...                       0                     0\n",
              "\n",
              "[5 rows x 38 columns]"
            ]
          },
          "metadata": {
            "tags": []
          },
          "execution_count": 14
        }
      ]
    },
    {
      "cell_type": "markdown",
      "metadata": {
        "papermill": {
          "duration": 0.097834,
          "end_time": "2021-08-17T03:19:14.790773",
          "exception": false,
          "start_time": "2021-08-17T03:19:14.692939",
          "status": "completed"
        },
        "tags": [],
        "id": "bb9ee5ec"
      },
      "source": [
        "# Removing Ouliers (STD Method)"
      ],
      "id": "bb9ee5ec"
    },
    {
      "cell_type": "code",
      "metadata": {
        "execution": {
          "iopub.execute_input": "2021-08-17T03:19:14.984693Z",
          "iopub.status.busy": "2021-08-17T03:19:14.983602Z",
          "iopub.status.idle": "2021-08-17T03:19:14.993808Z",
          "shell.execute_reply": "2021-08-17T03:19:14.994548Z",
          "shell.execute_reply.started": "2021-08-17T02:18:24.948788Z"
        },
        "papermill": {
          "duration": 0.10926,
          "end_time": "2021-08-17T03:19:14.994922",
          "exception": false,
          "start_time": "2021-08-17T03:19:14.885662",
          "status": "completed"
        },
        "tags": [],
        "colab": {
          "base_uri": "https://localhost:8080/"
        },
        "id": "594d2152",
        "outputId": "893cc400-fa9c-4f26-c37d-414834167e52"
      },
      "source": [
        "# Before Removing Outliers\n",
        "data_dumm['Attrition_Flag'].value_counts()"
      ],
      "id": "594d2152",
      "execution_count": 15,
      "outputs": [
        {
          "output_type": "execute_result",
          "data": {
            "text/plain": [
              "1    8500\n",
              "0    1627\n",
              "Name: Attrition_Flag, dtype: int64"
            ]
          },
          "metadata": {
            "tags": []
          },
          "execution_count": 15
        }
      ]
    },
    {
      "cell_type": "code",
      "metadata": {
        "execution": {
          "iopub.execute_input": "2021-08-17T03:19:15.201257Z",
          "iopub.status.busy": "2021-08-17T03:19:15.200271Z",
          "iopub.status.idle": "2021-08-17T03:19:15.212854Z",
          "shell.execute_reply": "2021-08-17T03:19:15.213693Z",
          "shell.execute_reply.started": "2021-08-17T02:18:24.959946Z"
        },
        "papermill": {
          "duration": 0.118646,
          "end_time": "2021-08-17T03:19:15.214174",
          "exception": false,
          "start_time": "2021-08-17T03:19:15.095528",
          "status": "completed"
        },
        "tags": [],
        "id": "3c50d734"
      },
      "source": [
        "#Removing Outliers Function (Standard Deviation Method)\n",
        "def remove_outliers(data_dumm, columns, tresh=3):\n",
        "    dataset = data_dumm.copy()\n",
        "    index_to_remove = []\n",
        "    value_to_remove = []\n",
        "    for col in columns:\n",
        "        array_to_remove = dataset[col].values\n",
        "        mean, std = np.mean(array_to_remove), np.std(array_to_remove)\n",
        "        z_score = np.abs((array_to_remove - mean) / std)\n",
        "        threshold = tresh\n",
        "        good = z_score < threshold\n",
        "        for i in range(len(good)):\n",
        "            if good[i] == False:\n",
        "                index_to_remove.append(i)\n",
        "                value_to_remove.append(array_to_remove[i])\n",
        "    index_to_remove = np.unique(np.array(index_to_remove))\n",
        "    print(\"Removed rows: \", len(index_to_remove))\n",
        "    dataset = dataset.drop(dataset.index[index_to_remove])\n",
        "    return dataset"
      ],
      "id": "3c50d734",
      "execution_count": 16,
      "outputs": []
    },
    {
      "cell_type": "code",
      "metadata": {
        "execution": {
          "iopub.execute_input": "2021-08-17T03:19:15.406453Z",
          "iopub.status.busy": "2021-08-17T03:19:15.405437Z",
          "iopub.status.idle": "2021-08-17T03:19:15.648735Z",
          "shell.execute_reply": "2021-08-17T03:19:15.648052Z",
          "shell.execute_reply.started": "2021-08-17T02:18:24.969228Z"
        },
        "papermill": {
          "duration": 0.341067,
          "end_time": "2021-08-17T03:19:15.648929",
          "exception": false,
          "start_time": "2021-08-17T03:19:15.307862",
          "status": "completed"
        },
        "tags": [],
        "colab": {
          "base_uri": "https://localhost:8080/"
        },
        "id": "717c7e0c",
        "outputId": "1863a2a7-4c15-4365-e589-7ada8e023b36"
      },
      "source": [
        "data_after_removing_outliers = remove_outliers(data_dumm, numerical_columns)"
      ],
      "id": "717c7e0c",
      "execution_count": 17,
      "outputs": [
        {
          "output_type": "stream",
          "text": [
            "Removed rows:  642\n"
          ],
          "name": "stdout"
        }
      ]
    },
    {
      "cell_type": "code",
      "metadata": {
        "execution": {
          "iopub.execute_input": "2021-08-17T03:19:15.852331Z",
          "iopub.status.busy": "2021-08-17T03:19:15.850173Z",
          "iopub.status.idle": "2021-08-17T03:19:15.861525Z",
          "shell.execute_reply": "2021-08-17T03:19:15.862322Z",
          "shell.execute_reply.started": "2021-08-17T02:18:25.094169Z"
        },
        "papermill": {
          "duration": 0.118297,
          "end_time": "2021-08-17T03:19:15.862584",
          "exception": false,
          "start_time": "2021-08-17T03:19:15.744287",
          "status": "completed"
        },
        "tags": [],
        "colab": {
          "base_uri": "https://localhost:8080/"
        },
        "id": "21c5f8f2",
        "outputId": "4ae29694-f47d-45d2-866e-9745448c6055"
      },
      "source": [
        "data_after_removing_outliers['Attrition_Flag'].value_counts()"
      ],
      "id": "21c5f8f2",
      "execution_count": 18,
      "outputs": [
        {
          "output_type": "execute_result",
          "data": {
            "text/plain": [
              "1    7876\n",
              "0    1609\n",
              "Name: Attrition_Flag, dtype: int64"
            ]
          },
          "metadata": {
            "tags": []
          },
          "execution_count": 18
        }
      ]
    },
    {
      "cell_type": "code",
      "metadata": {
        "execution": {
          "iopub.execute_input": "2021-08-17T03:19:16.056729Z",
          "iopub.status.busy": "2021-08-17T03:19:16.055911Z",
          "iopub.status.idle": "2021-08-17T03:19:19.602627Z",
          "shell.execute_reply": "2021-08-17T03:19:19.603432Z",
          "shell.execute_reply.started": "2021-08-17T02:18:25.104198Z"
        },
        "papermill": {
          "duration": 3.648557,
          "end_time": "2021-08-17T03:19:19.603797",
          "exception": false,
          "start_time": "2021-08-17T03:19:15.955240",
          "status": "completed"
        },
        "tags": [],
        "colab": {
          "base_uri": "https://localhost:8080/",
          "height": 1000
        },
        "id": "e77df78c",
        "outputId": "8898b20a-4542-4668-8947-5ae9ffb58208"
      },
      "source": [
        "fig, axes = plt.subplots(5,2, figsize=(14,24))\n",
        "axes = [ax for axes_row in axes for ax in axes_row]\n",
        "\n",
        "for i, col in enumerate(numerical_columns):\n",
        "    plot = sns.boxplot(data=data_after_removing_outliers, y=col, x='Attrition_Flag', ax=axes[i])\n",
        "plt.tight_layout()"
      ],
      "id": "e77df78c",
      "execution_count": 19,
      "outputs": [
        {
          "output_type": "display_data",
          "data": {
            "image/png": "[encoded data removed]",
            "text/plain": [
              "<Figure size 1008x1728 with 10 Axes>"
            ]
          },
          "metadata": {
            "tags": [],
            "needs_background": "light"
          }
        }
      ]
    },
    {
      "cell_type": "markdown",
      "metadata": {
        "papermill": {
          "duration": 0.093021,
          "end_time": "2021-08-17T03:19:19.794388",
          "exception": false,
          "start_time": "2021-08-17T03:19:19.701367",
          "status": "completed"
        },
        "tags": [],
        "id": "cb5e8962"
      },
      "source": [
        "# Split Train and Test "
      ],
      "id": "cb5e8962"
    },
    {
      "cell_type": "code",
      "metadata": {
        "execution": {
          "iopub.execute_input": "2021-08-17T03:19:19.989465Z",
          "iopub.status.busy": "2021-08-17T03:19:19.988015Z",
          "iopub.status.idle": "2021-08-17T03:19:19.993592Z",
          "shell.execute_reply": "2021-08-17T03:19:19.994692Z",
          "shell.execute_reply.started": "2021-08-17T02:18:26.670715Z"
        },
        "papermill": {
          "duration": 0.107472,
          "end_time": "2021-08-17T03:19:19.995115",
          "exception": false,
          "start_time": "2021-08-17T03:19:19.887643",
          "status": "completed"
        },
        "tags": [],
        "id": "a2f0f822"
      },
      "source": [
        "X = data_after_removing_outliers.drop(['Attrition_Flag'],1)\n",
        "y = data_after_removing_outliers['Attrition_Flag']"
      ],
      "id": "a2f0f822",
      "execution_count": 20,
      "outputs": []
    },
    {
      "cell_type": "code",
      "metadata": {
        "execution": {
          "iopub.execute_input": "2021-08-17T03:19:20.199258Z",
          "iopub.status.busy": "2021-08-17T03:19:20.197651Z",
          "iopub.status.idle": "2021-08-17T03:19:20.341295Z",
          "shell.execute_reply": "2021-08-17T03:19:20.339783Z",
          "shell.execute_reply.started": "2021-08-17T02:18:26.678759Z"
        },
        "papermill": {
          "duration": 0.255785,
          "end_time": "2021-08-17T03:19:20.341578",
          "exception": false,
          "start_time": "2021-08-17T03:19:20.085793",
          "status": "completed"
        },
        "tags": [],
        "id": "044e3bd6"
      },
      "source": [
        "# Train test split\n",
        "from sklearn.model_selection import train_test_split\n",
        "X_train,X_test,y_train,y_test = train_test_split(X,y,test_size = 0.2,random_state = 123, stratify=y)\n"
      ],
      "id": "044e3bd6",
      "execution_count": 21,
      "outputs": []
    },
    {
      "cell_type": "markdown",
      "metadata": {
        "papermill": {
          "duration": 0.0955,
          "end_time": "2021-08-17T03:19:20.534959",
          "exception": false,
          "start_time": "2021-08-17T03:19:20.439459",
          "status": "completed"
        },
        "tags": [],
        "id": "bc1394fa"
      },
      "source": [
        "# Oversampling (SMOTEENN)"
      ],
      "id": "bc1394fa"
    },
    {
      "cell_type": "code",
      "metadata": {
        "execution": {
          "iopub.execute_input": "2021-08-17T03:19:20.735794Z",
          "iopub.status.busy": "2021-08-17T03:19:20.734728Z",
          "iopub.status.idle": "2021-08-17T03:19:21.936308Z",
          "shell.execute_reply": "2021-08-17T03:19:21.935656Z",
          "shell.execute_reply.started": "2021-08-17T02:18:26.702267Z"
        },
        "papermill": {
          "duration": 1.305077,
          "end_time": "2021-08-17T03:19:21.936497",
          "exception": false,
          "start_time": "2021-08-17T03:19:20.631420",
          "status": "completed"
        },
        "tags": [],
        "colab": {
          "base_uri": "https://localhost:8080/"
        },
        "id": "a5d8235a",
        "outputId": "2c0c7dd9-a8b2-4835-bd27-244413a1e455"
      },
      "source": [
        "from imblearn.combine import SMOTEENN\n",
        "\n",
        "smoteen = SMOTEENN()\n",
        "X_train, y_train = smoteen.fit_resample(X_train, y_train)"
      ],
      "id": "a5d8235a",
      "execution_count": 22,
      "outputs": [
        {
          "output_type": "stream",
          "text": [
            "/usr/local/lib/python3.7/dist-packages/sklearn/externals/six.py:31: FutureWarning: The module is deprecated in version 0.21 and will be removed in version 0.23 since we've dropped support for Python 2.7. Please rely on the official version of six (https://pypi.org/project/six/).\n",
            "  \"(https://pypi.org/project/six/).\", FutureWarning)\n",
            "/usr/local/lib/python3.7/dist-packages/sklearn/utils/deprecation.py:144: FutureWarning: The sklearn.neighbors.base module is  deprecated in version 0.22 and will be removed in version 0.24. The corresponding classes / functions should instead be imported from sklearn.neighbors. Anything that cannot be imported from sklearn.neighbors is now part of the private API.\n",
            "  warnings.warn(message, FutureWarning)\n",
            "/usr/local/lib/python3.7/dist-packages/sklearn/utils/deprecation.py:87: FutureWarning: Function safe_indexing is deprecated; safe_indexing is deprecated in version 0.22 and will be removed in version 0.24.\n",
            "  warnings.warn(msg, category=FutureWarning)\n",
            "/usr/local/lib/python3.7/dist-packages/sklearn/utils/deprecation.py:87: FutureWarning: Function safe_indexing is deprecated; safe_indexing is deprecated in version 0.22 and will be removed in version 0.24.\n",
            "  warnings.warn(msg, category=FutureWarning)\n",
            "/usr/local/lib/python3.7/dist-packages/sklearn/utils/deprecation.py:87: FutureWarning: Function safe_indexing is deprecated; safe_indexing is deprecated in version 0.22 and will be removed in version 0.24.\n",
            "  warnings.warn(msg, category=FutureWarning)\n",
            "/usr/local/lib/python3.7/dist-packages/sklearn/utils/deprecation.py:87: FutureWarning: Function safe_indexing is deprecated; safe_indexing is deprecated in version 0.22 and will be removed in version 0.24.\n",
            "  warnings.warn(msg, category=FutureWarning)\n"
          ],
          "name": "stderr"
        }
      ]
    },
    {
      "cell_type": "markdown",
      "metadata": {
        "papermill": {
          "duration": 0.089272,
          "end_time": "2021-08-17T03:19:22.119196",
          "exception": false,
          "start_time": "2021-08-17T03:19:22.029924",
          "status": "completed"
        },
        "tags": [],
        "id": "3b0ef622"
      },
      "source": [
        "# Standard Scaling"
      ],
      "id": "3b0ef622"
    },
    {
      "cell_type": "code",
      "metadata": {
        "execution": {
          "iopub.execute_input": "2021-08-17T03:19:22.325841Z",
          "iopub.status.busy": "2021-08-17T03:19:22.322698Z",
          "iopub.status.idle": "2021-08-17T03:19:22.360437Z",
          "shell.execute_reply": "2021-08-17T03:19:22.359486Z",
          "shell.execute_reply.started": "2021-08-17T02:18:27.363305Z"
        },
        "papermill": {
          "duration": 0.146565,
          "end_time": "2021-08-17T03:19:22.360739",
          "exception": false,
          "start_time": "2021-08-17T03:19:22.214174",
          "status": "completed"
        },
        "tags": [],
        "id": "3f62bad0"
      },
      "source": [
        "from sklearn.preprocessing import StandardScaler\n",
        "\n",
        "sc = StandardScaler()\n",
        "X_train = sc.fit_transform(X_train)\n",
        "X_test = sc.transform(X_test)"
      ],
      "id": "3f62bad0",
      "execution_count": 24,
      "outputs": []
    },
    {
      "cell_type": "code",
      "metadata": {
        "execution": {
          "iopub.execute_input": "2021-08-17T03:19:22.561765Z",
          "iopub.status.busy": "2021-08-17T03:19:22.560865Z",
          "iopub.status.idle": "2021-08-17T03:19:22.570670Z",
          "shell.execute_reply": "2021-08-17T03:19:22.569686Z",
          "shell.execute_reply.started": "2021-08-17T02:18:27.382852Z"
        },
        "papermill": {
          "duration": 0.11383,
          "end_time": "2021-08-17T03:19:22.570948",
          "exception": false,
          "start_time": "2021-08-17T03:19:22.457118",
          "status": "completed"
        },
        "tags": [],
        "colab": {
          "base_uri": "https://localhost:8080/"
        },
        "id": "d5c8249c",
        "outputId": "4444a979-3d75-487a-9daa-78ba9206047b"
      },
      "source": [
        "X_train"
      ],
      "id": "d5c8249c",
      "execution_count": 25,
      "outputs": [
        {
          "output_type": "execute_result",
          "data": {
            "text/plain": [
              "array([[ 1.15701978, -1.14350763, -0.02982739, ..., -0.11353049,\n",
              "        -0.05928222, -0.22864706],\n",
              "       [ 1.15701978, -0.30948481,  1.89364304, ..., -0.11353049,\n",
              "        -0.05928222, -0.22864706],\n",
              "       [-0.37163644,  1.35856082, -0.44199962, ..., -0.11353049,\n",
              "        -0.05928222, -0.22864706],\n",
              "       ...,\n",
              "       [ 0.0452698 ,  0.524538  ,  0.79451708, ..., -0.11353049,\n",
              "        -0.05928222, -0.22864706],\n",
              "       [ 0.32320729, -1.14350763,  0.38234485, ..., -0.11353049,\n",
              "        -0.05928222, -0.22864706],\n",
              "       [-1.34441767,  0.524538  , -1.54112558, ..., -0.11353049,\n",
              "        -0.05928222, -0.22864706]])"
            ]
          },
          "metadata": {
            "tags": []
          },
          "execution_count": 25
        }
      ]
    },
    {
      "cell_type": "markdown",
      "metadata": {
        "papermill": {
          "duration": 0.092621,
          "end_time": "2021-08-17T03:19:22.760643",
          "exception": false,
          "start_time": "2021-08-17T03:19:22.668022",
          "status": "completed"
        },
        "tags": [],
        "id": "47ed29e0"
      },
      "source": [
        "# **5. Develop Model**"
      ],
      "id": "47ed29e0"
    },
    {
      "cell_type": "code",
      "metadata": {
        "execution": {
          "iopub.execute_input": "2021-08-17T03:19:22.953431Z",
          "iopub.status.busy": "2021-08-17T03:19:22.952293Z",
          "iopub.status.idle": "2021-08-17T03:19:22.956804Z",
          "shell.execute_reply": "2021-08-17T03:19:22.956021Z",
          "shell.execute_reply.started": "2021-08-17T02:18:27.389852Z"
        },
        "papermill": {
          "duration": 0.103688,
          "end_time": "2021-08-17T03:19:22.957004",
          "exception": false,
          "start_time": "2021-08-17T03:19:22.853316",
          "status": "completed"
        },
        "tags": [],
        "id": "0992b8f4"
      },
      "source": [
        "import warnings\n",
        "warnings.filterwarnings('ignore')"
      ],
      "id": "0992b8f4",
      "execution_count": 26,
      "outputs": []
    },
    {
      "cell_type": "code",
      "metadata": {
        "execution": {
          "iopub.execute_input": "2021-08-17T03:19:23.160817Z",
          "iopub.status.busy": "2021-08-17T03:19:23.158675Z",
          "iopub.status.idle": "2021-08-17T03:19:23.163042Z",
          "shell.execute_reply": "2021-08-17T03:19:23.163608Z",
          "shell.execute_reply.started": "2021-08-17T02:18:27.401894Z"
        },
        "papermill": {
          "duration": 0.11133,
          "end_time": "2021-08-17T03:19:23.163890",
          "exception": false,
          "start_time": "2021-08-17T03:19:23.052560",
          "status": "completed"
        },
        "tags": [],
        "id": "824d848e"
      },
      "source": [
        "# Cross K Validation\n",
        "from sklearn.model_selection import cross_val_predict\n",
        "from sklearn.metrics import confusion_matrix, accuracy_score, precision_score, roc_auc_score, recall_score\n",
        "\n",
        "def evaluate_model(model, X_test, y_test):\n",
        "  y_pred = cross_val_predict(model, X_test, y_test, cv=5)\n",
        "  cm = confusion_matrix(y_test, y_pred)\n",
        "  print(cm)\n",
        "  print(\"ROC AUC Score: \", roc_auc_score(y_test, y_pred))\n",
        "  print(\"Accuracy Score: \", accuracy_score(y_test, y_pred))\n",
        "  print(\"Precision Score: \", precision_score(y_test, y_pred))\n",
        "  print(\"Recall Score: \", recall_score(y_test, y_pred))"
      ],
      "id": "824d848e",
      "execution_count": 27,
      "outputs": []
    },
    {
      "cell_type": "markdown",
      "metadata": {
        "papermill": {
          "duration": 0.094308,
          "end_time": "2021-08-17T03:19:23.356755",
          "exception": false,
          "start_time": "2021-08-17T03:19:23.262447",
          "status": "completed"
        },
        "tags": [],
        "id": "8ba7bcb1"
      },
      "source": [
        "## **K-Nearest Neighbor**"
      ],
      "id": "8ba7bcb1"
    },
    {
      "cell_type": "code",
      "metadata": {
        "execution": {
          "iopub.execute_input": "2021-08-17T03:19:23.564033Z",
          "iopub.status.busy": "2021-08-17T03:19:23.561855Z",
          "iopub.status.idle": "2021-08-17T03:19:23.875062Z",
          "shell.execute_reply": "2021-08-17T03:19:23.873911Z",
          "shell.execute_reply.started": "2021-08-17T02:18:27.414981Z"
        },
        "papermill": {
          "duration": 0.422489,
          "end_time": "2021-08-17T03:19:23.875316",
          "exception": false,
          "start_time": "2021-08-17T03:19:23.452827",
          "status": "completed"
        },
        "tags": [],
        "colab": {
          "base_uri": "https://localhost:8080/"
        },
        "id": "7edb6fb4",
        "outputId": "d6101509-fb11-4fa2-b181-b75fdd05f270"
      },
      "source": [
        "from sklearn.neighbors import KNeighborsClassifier\n",
        "\n",
        "knn = KNeighborsClassifier()\n",
        "knn.fit(X_train, y_train)"
      ],
      "id": "7edb6fb4",
      "execution_count": 28,
      "outputs": [
        {
          "output_type": "execute_result",
          "data": {
            "text/plain": [
              "KNeighborsClassifier(algorithm='auto', leaf_size=30, metric='minkowski',\n",
              "                     metric_params=None, n_jobs=None, n_neighbors=5, p=2,\n",
              "                     weights='uniform')"
            ]
          },
          "metadata": {
            "tags": []
          },
          "execution_count": 28
        }
      ]
    },
    {
      "cell_type": "code",
      "metadata": {
        "execution": {
          "iopub.execute_input": "2021-08-17T03:19:24.078539Z",
          "iopub.status.busy": "2021-08-17T03:19:24.077147Z",
          "iopub.status.idle": "2021-08-17T03:19:24.473133Z",
          "shell.execute_reply": "2021-08-17T03:19:24.472387Z",
          "shell.execute_reply.started": "2021-08-17T02:18:27.582949Z"
        },
        "papermill": {
          "duration": 0.501393,
          "end_time": "2021-08-17T03:19:24.473368",
          "exception": false,
          "start_time": "2021-08-17T03:19:23.971975",
          "status": "completed"
        },
        "tags": [],
        "colab": {
          "base_uri": "https://localhost:8080/"
        },
        "id": "8b884262",
        "outputId": "b2dabfea-e1cf-4289-abf7-98475316dee4"
      },
      "source": [
        "evaluate_model(knn, X_test, y_test)"
      ],
      "id": "8b884262",
      "execution_count": 29,
      "outputs": [
        {
          "output_type": "stream",
          "text": [
            "[[  59  263]\n",
            " [  29 1546]]\n",
            "ROC AUC Score:  0.5824085576259489\n",
            "Accuracy Score:  0.8460727464417501\n",
            "Precision Score:  0.8546158098396904\n",
            "Recall Score:  0.9815873015873016\n"
          ],
          "name": "stdout"
        }
      ]
    },
    {
      "cell_type": "markdown",
      "metadata": {
        "papermill": {
          "duration": 0.095348,
          "end_time": "2021-08-17T03:19:24.663237",
          "exception": false,
          "start_time": "2021-08-17T03:19:24.567889",
          "status": "completed"
        },
        "tags": [],
        "id": "88991f99"
      },
      "source": [
        "## **Support Vector Machine**"
      ],
      "id": "88991f99"
    },
    {
      "cell_type": "code",
      "metadata": {
        "execution": {
          "iopub.execute_input": "2021-08-17T03:19:24.859305Z",
          "iopub.status.busy": "2021-08-17T03:19:24.857676Z",
          "iopub.status.idle": "2021-08-17T03:19:28.137956Z",
          "shell.execute_reply": "2021-08-17T03:19:28.137125Z",
          "shell.execute_reply.started": "2021-08-17T02:18:27.890029Z"
        },
        "papermill": {
          "duration": 3.38244,
          "end_time": "2021-08-17T03:19:28.138165",
          "exception": false,
          "start_time": "2021-08-17T03:19:24.755725",
          "status": "completed"
        },
        "tags": [],
        "colab": {
          "base_uri": "https://localhost:8080/"
        },
        "id": "718e7144",
        "outputId": "5cdacf31-ef6c-4b4e-963f-3a7ab1c9dead"
      },
      "source": [
        "from sklearn.svm import SVC\n",
        "\n",
        "svm = SVC()\n",
        "svm.fit(X_train, y_train)"
      ],
      "id": "718e7144",
      "execution_count": 30,
      "outputs": [
        {
          "output_type": "execute_result",
          "data": {
            "text/plain": [
              "SVC(C=1.0, break_ties=False, cache_size=200, class_weight=None, coef0=0.0,\n",
              "    decision_function_shape='ovr', degree=3, gamma='scale', kernel='rbf',\n",
              "    max_iter=-1, probability=False, random_state=None, shrinking=True,\n",
              "    tol=0.001, verbose=False)"
            ]
          },
          "metadata": {
            "tags": []
          },
          "execution_count": 30
        }
      ]
    },
    {
      "cell_type": "code",
      "metadata": {
        "execution": {
          "iopub.execute_input": "2021-08-17T03:19:28.342525Z",
          "iopub.status.busy": "2021-08-17T03:19:28.340711Z",
          "iopub.status.idle": "2021-08-17T03:19:29.027520Z",
          "shell.execute_reply": "2021-08-17T03:19:29.024343Z",
          "shell.execute_reply.started": "2021-08-17T02:18:30.151606Z"
        },
        "papermill": {
          "duration": 0.792552,
          "end_time": "2021-08-17T03:19:29.028034",
          "exception": false,
          "start_time": "2021-08-17T03:19:28.235482",
          "status": "completed"
        },
        "tags": [],
        "colab": {
          "base_uri": "https://localhost:8080/"
        },
        "id": "2dbc0cd3",
        "outputId": "2fa74fec-3968-4b28-d27a-b976127e60cd"
      },
      "source": [
        "evaluate_model(svm, X_test, y_test)"
      ],
      "id": "2dbc0cd3",
      "execution_count": 31,
      "outputs": [
        {
          "output_type": "stream",
          "text": [
            "[[ 146  176]\n",
            " [  25 1550]]\n",
            "ROC AUC Score:  0.7187715665976535\n",
            "Accuracy Score:  0.8940432261465472\n",
            "Precision Score:  0.8980301274623407\n",
            "Recall Score:  0.9841269841269841\n"
          ],
          "name": "stdout"
        }
      ]
    },
    {
      "cell_type": "markdown",
      "metadata": {
        "papermill": {
          "duration": 0.096433,
          "end_time": "2021-08-17T03:19:29.220259",
          "exception": false,
          "start_time": "2021-08-17T03:19:29.123826",
          "status": "completed"
        },
        "tags": [],
        "id": "fd5d4ea9"
      },
      "source": [
        "## **Logistic Regression**"
      ],
      "id": "fd5d4ea9"
    },
    {
      "cell_type": "code",
      "metadata": {
        "execution": {
          "iopub.execute_input": "2021-08-17T03:19:29.422260Z",
          "iopub.status.busy": "2021-08-17T03:19:29.420145Z",
          "iopub.status.idle": "2021-08-17T03:19:29.970660Z",
          "shell.execute_reply": "2021-08-17T03:19:29.972163Z",
          "shell.execute_reply.started": "2021-08-17T02:18:30.745571Z"
        },
        "papermill": {
          "duration": 0.657213,
          "end_time": "2021-08-17T03:19:29.972757",
          "exception": false,
          "start_time": "2021-08-17T03:19:29.315544",
          "status": "completed"
        },
        "tags": [],
        "colab": {
          "base_uri": "https://localhost:8080/"
        },
        "id": "2a875206",
        "outputId": "5a36fbfd-4eac-40ca-a46b-e67f6171fddd"
      },
      "source": [
        "from sklearn.linear_model import LogisticRegression\n",
        "\n",
        "lr = LogisticRegression()\n",
        "lr.fit(X_train, y_train)"
      ],
      "id": "2a875206",
      "execution_count": 32,
      "outputs": [
        {
          "output_type": "execute_result",
          "data": {
            "text/plain": [
              "LogisticRegression(C=1.0, class_weight=None, dual=False, fit_intercept=True,\n",
              "                   intercept_scaling=1, l1_ratio=None, max_iter=100,\n",
              "                   multi_class='auto', n_jobs=None, penalty='l2',\n",
              "                   random_state=None, solver='lbfgs', tol=0.0001, verbose=0,\n",
              "                   warm_start=False)"
            ]
          },
          "metadata": {
            "tags": []
          },
          "execution_count": 32
        }
      ]
    },
    {
      "cell_type": "code",
      "metadata": {
        "execution": {
          "iopub.execute_input": "2021-08-17T03:19:30.233660Z",
          "iopub.status.busy": "2021-08-17T03:19:30.232500Z",
          "iopub.status.idle": "2021-08-17T03:19:30.528218Z",
          "shell.execute_reply": "2021-08-17T03:19:30.529957Z",
          "shell.execute_reply.started": "2021-08-17T02:18:30.925266Z"
        },
        "papermill": {
          "duration": 0.407348,
          "end_time": "2021-08-17T03:19:30.530546",
          "exception": false,
          "start_time": "2021-08-17T03:19:30.123198",
          "status": "completed"
        },
        "tags": [],
        "colab": {
          "base_uri": "https://localhost:8080/"
        },
        "id": "382324a7",
        "outputId": "6a1c3aba-0a11-407c-89d1-7b5e3ac9e6d8"
      },
      "source": [
        "evaluate_model(lr, X_test, y_test)"
      ],
      "id": "382324a7",
      "execution_count": 33,
      "outputs": [
        {
          "output_type": "stream",
          "text": [
            "[[ 181  141]\n",
            " [  60 1515]]\n",
            "ROC AUC Score:  0.762008281573499\n",
            "Accuracy Score:  0.8940432261465472\n",
            "Precision Score:  0.9148550724637681\n",
            "Recall Score:  0.9619047619047619\n"
          ],
          "name": "stdout"
        }
      ]
    },
    {
      "cell_type": "markdown",
      "metadata": {
        "papermill": {
          "duration": 0.099472,
          "end_time": "2021-08-17T03:19:30.773430",
          "exception": false,
          "start_time": "2021-08-17T03:19:30.673958",
          "status": "completed"
        },
        "tags": [],
        "id": "4b85ba88"
      },
      "source": [
        "## **Decision Tree**"
      ],
      "id": "4b85ba88"
    },
    {
      "cell_type": "code",
      "metadata": {
        "execution": {
          "iopub.execute_input": "2021-08-17T03:19:30.969753Z",
          "iopub.status.busy": "2021-08-17T03:19:30.968977Z",
          "iopub.status.idle": "2021-08-17T03:19:31.095480Z",
          "shell.execute_reply": "2021-08-17T03:19:31.094749Z",
          "shell.execute_reply.started": "2021-08-17T02:18:31.101595Z"
        },
        "papermill": {
          "duration": 0.223804,
          "end_time": "2021-08-17T03:19:31.095671",
          "exception": false,
          "start_time": "2021-08-17T03:19:30.871867",
          "status": "completed"
        },
        "tags": [],
        "colab": {
          "base_uri": "https://localhost:8080/"
        },
        "id": "04b6b4ea",
        "outputId": "592d33d5-c095-40de-a970-f732a97c9a2f"
      },
      "source": [
        "from sklearn.tree import DecisionTreeClassifier\n",
        "\n",
        "dt = DecisionTreeClassifier()\n",
        "dt.fit(X_train, y_train)"
      ],
      "id": "04b6b4ea",
      "execution_count": 34,
      "outputs": [
        {
          "output_type": "execute_result",
          "data": {
            "text/plain": [
              "DecisionTreeClassifier(ccp_alpha=0.0, class_weight=None, criterion='gini',\n",
              "                       max_depth=None, max_features=None, max_leaf_nodes=None,\n",
              "                       min_impurity_decrease=0.0, min_impurity_split=None,\n",
              "                       min_samples_leaf=1, min_samples_split=2,\n",
              "                       min_weight_fraction_leaf=0.0, presort='deprecated',\n",
              "                       random_state=None, splitter='best')"
            ]
          },
          "metadata": {
            "tags": []
          },
          "execution_count": 34
        }
      ]
    },
    {
      "cell_type": "code",
      "metadata": {
        "execution": {
          "iopub.execute_input": "2021-08-17T03:19:31.351585Z",
          "iopub.status.busy": "2021-08-17T03:19:31.349975Z",
          "iopub.status.idle": "2021-08-17T03:19:31.461393Z",
          "shell.execute_reply": "2021-08-17T03:19:31.462603Z",
          "shell.execute_reply.started": "2021-08-17T02:18:31.251017Z"
        },
        "papermill": {
          "duration": 0.256042,
          "end_time": "2021-08-17T03:19:31.462991",
          "exception": false,
          "start_time": "2021-08-17T03:19:31.206949",
          "status": "completed"
        },
        "tags": [],
        "colab": {
          "base_uri": "https://localhost:8080/"
        },
        "id": "818e13a8",
        "outputId": "5adbd0b6-ab7e-4697-d0c3-210ad9bac5ae"
      },
      "source": [
        "evaluate_model(dt, X_test, y_test)"
      ],
      "id": "818e13a8",
      "execution_count": 35,
      "outputs": [
        {
          "output_type": "stream",
          "text": [
            "[[ 250   72]\n",
            " [  75 1500]]\n",
            "ROC AUC Score:  0.8643892339544513\n",
            "Accuracy Score:  0.922509225092251\n",
            "Precision Score:  0.9541984732824428\n",
            "Recall Score:  0.9523809523809523\n"
          ],
          "name": "stdout"
        }
      ]
    },
    {
      "cell_type": "markdown",
      "metadata": {
        "papermill": {
          "duration": 0.101685,
          "end_time": "2021-08-17T03:19:31.663235",
          "exception": false,
          "start_time": "2021-08-17T03:19:31.561550",
          "status": "completed"
        },
        "tags": [],
        "id": "bb19dbcf"
      },
      "source": [
        "## **Random Forest**"
      ],
      "id": "bb19dbcf"
    },
    {
      "cell_type": "code",
      "metadata": {
        "execution": {
          "iopub.execute_input": "2021-08-17T03:19:31.872040Z",
          "iopub.status.busy": "2021-08-17T03:19:31.870817Z",
          "iopub.status.idle": "2021-08-17T03:19:33.778437Z",
          "shell.execute_reply": "2021-08-17T03:19:33.777717Z",
          "shell.execute_reply.started": "2021-08-17T02:18:31.340492Z"
        },
        "papermill": {
          "duration": 2.015682,
          "end_time": "2021-08-17T03:19:33.778643",
          "exception": false,
          "start_time": "2021-08-17T03:19:31.762961",
          "status": "completed"
        },
        "tags": [],
        "colab": {
          "base_uri": "https://localhost:8080/"
        },
        "id": "00e01c16",
        "outputId": "dababe52-ac29-4c53-8c91-d2e1f4baa116"
      },
      "source": [
        "from sklearn.ensemble import RandomForestClassifier\n",
        "\n",
        "rf = RandomForestClassifier()\n",
        "rf.fit(X_train, y_train)"
      ],
      "id": "00e01c16",
      "execution_count": 36,
      "outputs": [
        {
          "output_type": "execute_result",
          "data": {
            "text/plain": [
              "RandomForestClassifier(bootstrap=True, ccp_alpha=0.0, class_weight=None,\n",
              "                       criterion='gini', max_depth=None, max_features='auto',\n",
              "                       max_leaf_nodes=None, max_samples=None,\n",
              "                       min_impurity_decrease=0.0, min_impurity_split=None,\n",
              "                       min_samples_leaf=1, min_samples_split=2,\n",
              "                       min_weight_fraction_leaf=0.0, n_estimators=100,\n",
              "                       n_jobs=None, oob_score=False, random_state=None,\n",
              "                       verbose=0, warm_start=False)"
            ]
          },
          "metadata": {
            "tags": []
          },
          "execution_count": 36
        }
      ]
    },
    {
      "cell_type": "code",
      "metadata": {
        "execution": {
          "iopub.execute_input": "2021-08-17T03:19:33.993593Z",
          "iopub.status.busy": "2021-08-17T03:19:33.992162Z",
          "iopub.status.idle": "2021-08-17T03:19:36.651599Z",
          "shell.execute_reply": "2021-08-17T03:19:36.650644Z",
          "shell.execute_reply.started": "2021-08-17T02:18:32.835660Z"
        },
        "papermill": {
          "duration": 2.771147,
          "end_time": "2021-08-17T03:19:36.651801",
          "exception": false,
          "start_time": "2021-08-17T03:19:33.880654",
          "status": "completed"
        },
        "tags": [],
        "colab": {
          "base_uri": "https://localhost:8080/"
        },
        "id": "c7ffcb05",
        "outputId": "a3994145-7b72-4611-82a3-31c2d23a93fe"
      },
      "source": [
        "evaluate_model(rf, X_test, y_test)"
      ],
      "id": "c7ffcb05",
      "execution_count": 37,
      "outputs": [
        {
          "output_type": "stream",
          "text": [
            "[[ 216  106]\n",
            " [  25 1550]]\n",
            "ROC AUC Score:  0.8274672187715666\n",
            "Accuracy Score:  0.9309435951502372\n",
            "Precision Score:  0.9359903381642513\n",
            "Recall Score:  0.9841269841269841\n"
          ],
          "name": "stdout"
        }
      ]
    },
    {
      "cell_type": "markdown",
      "metadata": {
        "papermill": {
          "duration": 0.099942,
          "end_time": "2021-08-17T03:19:36.848521",
          "exception": false,
          "start_time": "2021-08-17T03:19:36.748579",
          "status": "completed"
        },
        "tags": [],
        "id": "597bfc28"
      },
      "source": [
        "## **XG Boost**"
      ],
      "id": "597bfc28"
    },
    {
      "cell_type": "code",
      "metadata": {
        "execution": {
          "iopub.execute_input": "2021-08-17T03:19:37.059564Z",
          "iopub.status.busy": "2021-08-17T03:19:37.058177Z",
          "iopub.status.idle": "2021-08-17T03:19:38.585649Z",
          "shell.execute_reply": "2021-08-17T03:19:38.584598Z",
          "shell.execute_reply.started": "2021-08-17T02:18:34.485138Z"
        },
        "papermill": {
          "duration": 1.638499,
          "end_time": "2021-08-17T03:19:38.585949",
          "exception": false,
          "start_time": "2021-08-17T03:19:36.947450",
          "status": "completed"
        },
        "tags": [],
        "colab": {
          "base_uri": "https://localhost:8080/"
        },
        "id": "ea1ab756",
        "outputId": "b26c6b4d-fbb4-40e8-9bc1-ff474cdcbe6d"
      },
      "source": [
        "from xgboost import XGBClassifier\n",
        "\n",
        "xgb = XGBClassifier()\n",
        "xgb.fit(X_train, y_train)"
      ],
      "id": "ea1ab756",
      "execution_count": 38,
      "outputs": [
        {
          "output_type": "execute_result",
          "data": {
            "text/plain": [
              "XGBClassifier(base_score=0.5, booster='gbtree', colsample_bylevel=1,\n",
              "              colsample_bynode=1, colsample_bytree=1, gamma=0,\n",
              "              learning_rate=0.1, max_delta_step=0, max_depth=3,\n",
              "              min_child_weight=1, missing=None, n_estimators=100, n_jobs=1,\n",
              "              nthread=None, objective='binary:logistic', random_state=0,\n",
              "              reg_alpha=0, reg_lambda=1, scale_pos_weight=1, seed=None,\n",
              "              silent=None, subsample=1, verbosity=1)"
            ]
          },
          "metadata": {
            "tags": []
          },
          "execution_count": 38
        }
      ]
    },
    {
      "cell_type": "code",
      "metadata": {
        "execution": {
          "iopub.execute_input": "2021-08-17T03:19:38.802703Z",
          "iopub.status.busy": "2021-08-17T03:19:38.801255Z",
          "iopub.status.idle": "2021-08-17T03:19:40.220754Z",
          "shell.execute_reply": "2021-08-17T03:19:40.221988Z",
          "shell.execute_reply.started": "2021-08-17T02:18:35.687607Z"
        },
        "papermill": {
          "duration": 1.533578,
          "end_time": "2021-08-17T03:19:40.222617",
          "exception": false,
          "start_time": "2021-08-17T03:19:38.689039",
          "status": "completed"
        },
        "tags": [],
        "colab": {
          "base_uri": "https://localhost:8080/"
        },
        "id": "2524127b",
        "outputId": "2424dda6-c9fa-4e60-b26a-cdf45f2ce54a"
      },
      "source": [
        "evaluate_model(xgb, X_test, y_test)"
      ],
      "id": "2524127b",
      "execution_count": 39,
      "outputs": [
        {
          "output_type": "stream",
          "text": [
            "[[ 265   57]\n",
            " [  25 1550]]\n",
            "ROC AUC Score:  0.9035541752933057\n",
            "Accuracy Score:  0.9567738534528203\n",
            "Precision Score:  0.9645301804604853\n",
            "Recall Score:  0.9841269841269841\n"
          ],
          "name": "stdout"
        }
      ]
    },
    {
      "cell_type": "markdown",
      "metadata": {
        "papermill": {
          "duration": 0.104426,
          "end_time": "2021-08-17T03:19:40.430311",
          "exception": false,
          "start_time": "2021-08-17T03:19:40.325885",
          "status": "completed"
        },
        "tags": [],
        "id": "fadf0919"
      },
      "source": [
        "## **Light GBM**"
      ],
      "id": "fadf0919"
    },
    {
      "cell_type": "code",
      "metadata": {
        "execution": {
          "iopub.execute_input": "2021-08-17T03:19:40.643472Z",
          "iopub.status.busy": "2021-08-17T03:19:40.642415Z",
          "iopub.status.idle": "2021-08-17T03:19:42.803114Z",
          "shell.execute_reply": "2021-08-17T03:19:42.802379Z",
          "shell.execute_reply.started": "2021-08-17T02:18:36.868033Z"
        },
        "papermill": {
          "duration": 2.268774,
          "end_time": "2021-08-17T03:19:42.803372",
          "exception": false,
          "start_time": "2021-08-17T03:19:40.534598",
          "status": "completed"
        },
        "tags": [],
        "colab": {
          "base_uri": "https://localhost:8080/"
        },
        "id": "3289b661",
        "outputId": "892f8766-f229-4744-c874-73d51dc705e5"
      },
      "source": [
        "import lightgbm as lgb\n",
        "\n",
        "gbm = lgb.LGBMClassifier()\n",
        "gbm.fit(X_train, y_train)"
      ],
      "id": "3289b661",
      "execution_count": 40,
      "outputs": [
        {
          "output_type": "execute_result",
          "data": {
            "text/plain": [
              "LGBMClassifier(boosting_type='gbdt', class_weight=None, colsample_bytree=1.0,\n",
              "               importance_type='split', learning_rate=0.1, max_depth=-1,\n",
              "               min_child_samples=20, min_child_weight=0.001, min_split_gain=0.0,\n",
              "               n_estimators=100, n_jobs=-1, num_leaves=31, objective=None,\n",
              "               random_state=None, reg_alpha=0.0, reg_lambda=0.0, silent=True,\n",
              "               subsample=1.0, subsample_for_bin=200000, subsample_freq=0)"
            ]
          },
          "metadata": {
            "tags": []
          },
          "execution_count": 40
        }
      ]
    },
    {
      "cell_type": "code",
      "metadata": {
        "execution": {
          "iopub.execute_input": "2021-08-17T03:19:43.022165Z",
          "iopub.status.busy": "2021-08-17T03:19:43.020234Z",
          "iopub.status.idle": "2021-08-17T03:19:44.279455Z",
          "shell.execute_reply": "2021-08-17T03:19:44.280568Z",
          "shell.execute_reply.started": "2021-08-17T02:18:37.936060Z"
        },
        "papermill": {
          "duration": 1.375216,
          "end_time": "2021-08-17T03:19:44.280841",
          "exception": false,
          "start_time": "2021-08-17T03:19:42.905625",
          "status": "completed"
        },
        "tags": [],
        "colab": {
          "base_uri": "https://localhost:8080/"
        },
        "id": "9b015b05",
        "outputId": "66c97018-02a8-4158-cb5f-3384333984d9"
      },
      "source": [
        "evaluate_model(gbm, X_test, y_test)"
      ],
      "id": "9b015b05",
      "execution_count": 41,
      "outputs": [
        {
          "output_type": "stream",
          "text": [
            "[[ 271   51]\n",
            " [  24 1551]]\n",
            "ROC AUC Score:  0.9131884057971014\n",
            "Accuracy Score:  0.9604638903531892\n",
            "Precision Score:  0.9681647940074907\n",
            "Recall Score:  0.9847619047619047\n"
          ],
          "name": "stdout"
        }
      ]
    },
    {
      "cell_type": "markdown",
      "metadata": {
        "papermill": {
          "duration": 0.107197,
          "end_time": "2021-08-17T03:19:44.495025",
          "exception": false,
          "start_time": "2021-08-17T03:19:44.387828",
          "status": "completed"
        },
        "tags": [],
        "id": "3e030550"
      },
      "source": [
        "# **Hyperparameter Tuning for Light GBM**"
      ],
      "id": "3e030550"
    },
    {
      "cell_type": "code",
      "metadata": {
        "execution": {
          "iopub.execute_input": "2021-08-17T03:19:44.714246Z",
          "iopub.status.busy": "2021-08-17T03:19:44.712998Z",
          "iopub.status.idle": "2021-08-17T03:19:44.718867Z",
          "shell.execute_reply": "2021-08-17T03:19:44.717670Z",
          "shell.execute_reply.started": "2021-08-17T02:18:38.792345Z"
        },
        "papermill": {
          "duration": 0.120275,
          "end_time": "2021-08-17T03:19:44.719173",
          "exception": false,
          "start_time": "2021-08-17T03:19:44.598898",
          "status": "completed"
        },
        "tags": [],
        "id": "2773ba22"
      },
      "source": [
        "params = {\n",
        "    'max_depth':[3,7,9,'max'],\n",
        "    'n_estimators': [150, 200, 250],\n",
        "    'num_leaves': [25, 35, 40],\n",
        "    'learning_rate': [0.01, 0.22, 0.3]\n",
        "    }"
      ],
      "id": "2773ba22",
      "execution_count": 42,
      "outputs": []
    },
    {
      "cell_type": "code",
      "metadata": {
        "execution": {
          "iopub.execute_input": "2021-08-17T03:19:44.947933Z",
          "iopub.status.busy": "2021-08-17T03:19:44.946174Z",
          "iopub.status.idle": "2021-08-17T03:19:44.951765Z",
          "shell.execute_reply": "2021-08-17T03:19:44.949709Z",
          "shell.execute_reply.started": "2021-08-17T02:18:38.798805Z"
        },
        "papermill": {
          "duration": 0.123907,
          "end_time": "2021-08-17T03:19:44.952184",
          "exception": false,
          "start_time": "2021-08-17T03:19:44.828277",
          "status": "completed"
        },
        "tags": [],
        "id": "bb009864"
      },
      "source": [
        "gbm_grid = lgb.LGBMClassifier()\n",
        "\n",
        "from sklearn.model_selection import GridSearchCV\n",
        "grid = GridSearchCV(\n",
        "             estimator=gbm_grid,\n",
        "             param_grid=params,\n",
        "             scoring = 'roc_auc',\n",
        "             n_jobs = -1,\n",
        "             cv = 3,\n",
        "             verbose=2\n",
        "            )"
      ],
      "id": "bb009864",
      "execution_count": 43,
      "outputs": []
    },
    {
      "cell_type": "code",
      "metadata": {
        "execution": {
          "iopub.execute_input": "2021-08-17T03:19:45.179531Z",
          "iopub.status.busy": "2021-08-17T03:19:45.176732Z",
          "iopub.status.idle": "2021-08-17T03:20:46.196019Z",
          "shell.execute_reply": "2021-08-17T03:20:46.194965Z",
          "shell.execute_reply.started": "2021-08-17T02:18:38.817249Z"
        },
        "papermill": {
          "duration": 61.13692,
          "end_time": "2021-08-17T03:20:46.196311",
          "exception": false,
          "start_time": "2021-08-17T03:19:45.059391",
          "status": "completed"
        },
        "tags": [],
        "colab": {
          "base_uri": "https://localhost:8080/"
        },
        "id": "dcb90114",
        "outputId": "23ddbbe2-e753-4ccc-b7b9-aea1585390fb"
      },
      "source": [
        "grid.fit(X_train,y_train)"
      ],
      "id": "dcb90114",
      "execution_count": 44,
      "outputs": [
        {
          "output_type": "stream",
          "text": [
            "Fitting 3 folds for each of 108 candidates, totalling 324 fits\n"
          ],
          "name": "stdout"
        },
        {
          "output_type": "stream",
          "text": [
            "[Parallel(n_jobs=-1)]: Using backend LokyBackend with 2 concurrent workers.\n",
            "[Parallel(n_jobs=-1)]: Done  37 tasks      | elapsed:   24.6s\n",
            "[Parallel(n_jobs=-1)]: Done 174 tasks      | elapsed:  2.3min\n",
            "[Parallel(n_jobs=-1)]: Done 324 out of 324 | elapsed:  3.4min finished\n"
          ],
          "name": "stderr"
        },
        {
          "output_type": "execute_result",
          "data": {
            "text/plain": [
              "GridSearchCV(cv=3, error_score=nan,\n",
              "             estimator=LGBMClassifier(boosting_type='gbdt', class_weight=None,\n",
              "                                      colsample_bytree=1.0,\n",
              "                                      importance_type='split',\n",
              "                                      learning_rate=0.1, max_depth=-1,\n",
              "                                      min_child_samples=20,\n",
              "                                      min_child_weight=0.001,\n",
              "                                      min_split_gain=0.0, n_estimators=100,\n",
              "                                      n_jobs=-1, num_leaves=31, objective=None,\n",
              "                                      random_state=None, reg_alpha=0.0,\n",
              "                                      reg_lambda=0.0, silent=True,\n",
              "                                      subsample=1.0, subsample_for_bin=200000,\n",
              "                                      subsample_freq=0),\n",
              "             iid='deprecated', n_jobs=-1,\n",
              "             param_grid={'learning_rate': [0.01, 0.22, 0.3],\n",
              "                         'max_depth': [3, 7, 9, 'max'],\n",
              "                         'n_estimators': [150, 200, 250],\n",
              "                         'num_leaves': [25, 35, 40]},\n",
              "             pre_dispatch='2*n_jobs', refit=True, return_train_score=False,\n",
              "             scoring='roc_auc', verbose=2)"
            ]
          },
          "metadata": {
            "tags": []
          },
          "execution_count": 44
        }
      ]
    },
    {
      "cell_type": "code",
      "metadata": {
        "execution": {
          "iopub.execute_input": "2021-08-17T03:20:46.421404Z",
          "iopub.status.busy": "2021-08-17T03:20:46.420210Z",
          "iopub.status.idle": "2021-08-17T03:20:46.427903Z",
          "shell.execute_reply": "2021-08-17T03:20:46.427142Z",
          "shell.execute_reply.started": "2021-08-17T02:19:23.121549Z"
        },
        "papermill": {
          "duration": 0.125866,
          "end_time": "2021-08-17T03:20:46.428127",
          "exception": false,
          "start_time": "2021-08-17T03:20:46.302261",
          "status": "completed"
        },
        "tags": [],
        "colab": {
          "base_uri": "https://localhost:8080/"
        },
        "id": "e35ce85b",
        "outputId": "af73ee94-6973-492d-d82c-9649555bd8ee"
      },
      "source": [
        "grid.best_params_"
      ],
      "id": "e35ce85b",
      "execution_count": 45,
      "outputs": [
        {
          "output_type": "execute_result",
          "data": {
            "text/plain": [
              "{'learning_rate': 0.3, 'max_depth': 7, 'n_estimators': 150, 'num_leaves': 25}"
            ]
          },
          "metadata": {
            "tags": []
          },
          "execution_count": 45
        }
      ]
    },
    {
      "cell_type": "code",
      "metadata": {
        "execution": {
          "iopub.execute_input": "2021-08-17T03:20:46.656366Z",
          "iopub.status.busy": "2021-08-17T03:20:46.654713Z",
          "iopub.status.idle": "2021-08-17T03:20:47.322060Z",
          "shell.execute_reply": "2021-08-17T03:20:47.322663Z",
          "shell.execute_reply.started": "2021-08-17T02:24:17.308929Z"
        },
        "papermill": {
          "duration": 0.787946,
          "end_time": "2021-08-17T03:20:47.322918",
          "exception": false,
          "start_time": "2021-08-17T03:20:46.534972",
          "status": "completed"
        },
        "tags": [],
        "colab": {
          "base_uri": "https://localhost:8080/"
        },
        "id": "0b9f8e3e",
        "outputId": "5a5360e2-bef5-4cec-9ec6-5b20c2d4199c"
      },
      "source": [
        "import lightgbm as lgb\n",
        "\n",
        "gbm_after_tuning = lgb.LGBMClassifier(learning_rate=0.3, max_depth=7, n_estimators=150, num_leaves=35)\n",
        "gbm_after_tuning.fit(X_train, y_train)"
      ],
      "id": "0b9f8e3e",
      "execution_count": 50,
      "outputs": [
        {
          "output_type": "execute_result",
          "data": {
            "text/plain": [
              "LGBMClassifier(boosting_type='gbdt', class_weight=None, colsample_bytree=1.0,\n",
              "               importance_type='split', learning_rate=0.3, max_depth=7,\n",
              "               min_child_samples=20, min_child_weight=0.001, min_split_gain=0.0,\n",
              "               n_estimators=150, n_jobs=-1, num_leaves=35, objective=None,\n",
              "               random_state=None, reg_alpha=0.0, reg_lambda=0.0, silent=True,\n",
              "               subsample=1.0, subsample_for_bin=200000, subsample_freq=0)"
            ]
          },
          "metadata": {
            "tags": []
          },
          "execution_count": 50
        }
      ]
    },
    {
      "cell_type": "code",
      "metadata": {
        "execution": {
          "iopub.execute_input": "2021-08-17T03:20:47.655998Z",
          "iopub.status.busy": "2021-08-17T03:20:47.655034Z",
          "iopub.status.idle": "2021-08-17T03:20:49.360815Z",
          "shell.execute_reply": "2021-08-17T03:20:49.359244Z",
          "shell.execute_reply.started": "2021-08-17T02:24:23.851387Z"
        },
        "papermill": {
          "duration": 1.93383,
          "end_time": "2021-08-17T03:20:49.361224",
          "exception": false,
          "start_time": "2021-08-17T03:20:47.427394",
          "status": "completed"
        },
        "tags": [],
        "colab": {
          "base_uri": "https://localhost:8080/"
        },
        "id": "f5552fee",
        "outputId": "a816848b-e59e-41ed-b9ec-d7308c6b9a1d"
      },
      "source": [
        "evaluate_model(gbm_after_tuning, X_test, y_test)"
      ],
      "id": "f5552fee",
      "execution_count": 51,
      "outputs": [
        {
          "output_type": "stream",
          "text": [
            "[[ 273   49]\n",
            " [  28 1547]]\n",
            "ROC AUC Score:  0.9150241545893719\n",
            "Accuracy Score:  0.959409594095941\n",
            "Precision Score:  0.9692982456140351\n",
            "Recall Score:  0.9822222222222222\n"
          ],
          "name": "stdout"
        }
      ]
    },
    {
      "cell_type": "markdown",
      "metadata": {
        "papermill": {
          "duration": 0.10896,
          "end_time": "2021-08-17T03:20:49.583422",
          "exception": false,
          "start_time": "2021-08-17T03:20:49.474462",
          "status": "completed"
        },
        "tags": [],
        "id": "538eed66"
      },
      "source": [
        "# **Hyperparameter Tuning For XG Boost**"
      ],
      "id": "538eed66"
    },
    {
      "cell_type": "code",
      "metadata": {
        "execution": {
          "iopub.execute_input": "2021-08-17T03:20:49.812186Z",
          "iopub.status.busy": "2021-08-17T03:20:49.810109Z",
          "iopub.status.idle": "2021-08-17T03:20:49.815528Z",
          "shell.execute_reply": "2021-08-17T03:20:49.814608Z",
          "shell.execute_reply.started": "2021-08-17T02:25:13.948712Z"
        },
        "papermill": {
          "duration": 0.12092,
          "end_time": "2021-08-17T03:20:49.815749",
          "exception": false,
          "start_time": "2021-08-17T03:20:49.694829",
          "status": "completed"
        },
        "tags": [],
        "id": "5f3884ec"
      },
      "source": [
        "params_XGB = {\n",
        "    'eta':[0.1, 0.3, 0.5],\n",
        "    'max_depth': [5, 6, 7],\n",
        "    'gamma': [0, 1, 5]\n",
        "    }"
      ],
      "id": "5f3884ec",
      "execution_count": 52,
      "outputs": []
    },
    {
      "cell_type": "code",
      "metadata": {
        "execution": {
          "iopub.execute_input": "2021-08-17T03:20:50.053909Z",
          "iopub.status.busy": "2021-08-17T03:20:50.052219Z",
          "iopub.status.idle": "2021-08-17T03:20:50.056861Z",
          "shell.execute_reply": "2021-08-17T03:20:50.057673Z",
          "shell.execute_reply.started": "2021-08-17T02:25:16.644984Z"
        },
        "papermill": {
          "duration": 0.130733,
          "end_time": "2021-08-17T03:20:50.058146",
          "exception": false,
          "start_time": "2021-08-17T03:20:49.927413",
          "status": "completed"
        },
        "tags": [],
        "id": "5a56fed0"
      },
      "source": [
        "xgb_grid = XGBClassifier()\n",
        "\n",
        "from sklearn.model_selection import GridSearchCV\n",
        "grid = GridSearchCV(\n",
        "             estimator=xgb_grid,\n",
        "             param_grid=params_XGB,\n",
        "             scoring = 'roc_auc',\n",
        "             n_jobs = -1,\n",
        "             cv = 3,\n",
        "             verbose=2\n",
        "            )"
      ],
      "id": "5a56fed0",
      "execution_count": 53,
      "outputs": []
    },
    {
      "cell_type": "code",
      "metadata": {
        "execution": {
          "iopub.execute_input": "2021-08-17T03:20:50.290305Z",
          "iopub.status.busy": "2021-08-17T03:20:50.286794Z",
          "iopub.status.idle": "2021-08-17T03:41:55.053371Z",
          "shell.execute_reply": "2021-08-17T03:41:55.052193Z",
          "shell.execute_reply.started": "2021-08-17T02:25:19.690643Z"
        },
        "papermill": {
          "duration": 1264.88232,
          "end_time": "2021-08-17T03:41:55.053697",
          "exception": false,
          "start_time": "2021-08-17T03:20:50.171377",
          "status": "completed"
        },
        "tags": [],
        "colab": {
          "base_uri": "https://localhost:8080/"
        },
        "id": "80963a5f",
        "outputId": "7815b76c-ad8a-439e-d24b-980bd3759f79"
      },
      "source": [
        "grid.fit(X_train,y_train)"
      ],
      "id": "80963a5f",
      "execution_count": 54,
      "outputs": [
        {
          "output_type": "stream",
          "text": [
            "Fitting 3 folds for each of 27 candidates, totalling 81 fits\n"
          ],
          "name": "stdout"
        },
        {
          "output_type": "stream",
          "text": [
            "[Parallel(n_jobs=-1)]: Using backend LokyBackend with 2 concurrent workers.\n",
            "[Parallel(n_jobs=-1)]: Done  37 tasks      | elapsed:   58.3s\n",
            "[Parallel(n_jobs=-1)]: Done  81 out of  81 | elapsed:  2.1min finished\n"
          ],
          "name": "stderr"
        },
        {
          "output_type": "execute_result",
          "data": {
            "text/plain": [
              "GridSearchCV(cv=3, error_score=nan,\n",
              "             estimator=XGBClassifier(base_score=0.5, booster='gbtree',\n",
              "                                     colsample_bylevel=1, colsample_bynode=1,\n",
              "                                     colsample_bytree=1, gamma=0,\n",
              "                                     learning_rate=0.1, max_delta_step=0,\n",
              "                                     max_depth=3, min_child_weight=1,\n",
              "                                     missing=None, n_estimators=100, n_jobs=1,\n",
              "                                     nthread=None, objective='binary:logistic',\n",
              "                                     random_state=0, reg_alpha=0, reg_lambda=1,\n",
              "                                     scale_pos_weight=1, seed=None, silent=None,\n",
              "                                     subsample=1, verbosity=1),\n",
              "             iid='deprecated', n_jobs=-1,\n",
              "             param_grid={'eta': [0.1, 0.3, 0.5], 'gamma': [0, 1, 5],\n",
              "                         'max_depth': [5, 6, 7]},\n",
              "             pre_dispatch='2*n_jobs', refit=True, return_train_score=False,\n",
              "             scoring='roc_auc', verbose=2)"
            ]
          },
          "metadata": {
            "tags": []
          },
          "execution_count": 54
        }
      ]
    },
    {
      "cell_type": "code",
      "metadata": {
        "execution": {
          "iopub.execute_input": "2021-08-17T03:41:55.290212Z",
          "iopub.status.busy": "2021-08-17T03:41:55.288428Z",
          "iopub.status.idle": "2021-08-17T03:41:55.295068Z",
          "shell.execute_reply": "2021-08-17T03:41:55.294447Z",
          "shell.execute_reply.started": "2021-08-17T03:13:08.635943Z"
        },
        "papermill": {
          "duration": 0.129542,
          "end_time": "2021-08-17T03:41:55.295266",
          "exception": false,
          "start_time": "2021-08-17T03:41:55.165724",
          "status": "completed"
        },
        "tags": [],
        "colab": {
          "base_uri": "https://localhost:8080/"
        },
        "id": "2ed46e94",
        "outputId": "b2c7713d-147f-42e9-e8f9-27d22e9e338d"
      },
      "source": [
        "grid.best_params_"
      ],
      "id": "2ed46e94",
      "execution_count": 56,
      "outputs": [
        {
          "output_type": "execute_result",
          "data": {
            "text/plain": [
              "{'eta': 0.1, 'gamma': 0, 'max_depth': 5}"
            ]
          },
          "metadata": {
            "tags": []
          },
          "execution_count": 56
        }
      ]
    },
    {
      "cell_type": "code",
      "metadata": {
        "execution": {
          "iopub.execute_input": "2021-08-17T03:41:55.521203Z",
          "iopub.status.busy": "2021-08-17T03:41:55.520380Z",
          "iopub.status.idle": "2021-08-17T03:41:56.747038Z",
          "shell.execute_reply": "2021-08-17T03:41:56.748067Z",
          "shell.execute_reply.started": "2021-08-17T03:13:21.456764Z"
        },
        "papermill": {
          "duration": 1.341261,
          "end_time": "2021-08-17T03:41:56.748434",
          "exception": false,
          "start_time": "2021-08-17T03:41:55.407173",
          "status": "completed"
        },
        "tags": [],
        "colab": {
          "base_uri": "https://localhost:8080/"
        },
        "id": "ef00e1c2",
        "outputId": "7a62119f-cf40-44fc-ba78-88e3ca83abff"
      },
      "source": [
        "from xgboost import XGBClassifier\n",
        "\n",
        "xgb_after_tuning = XGBClassifier(eta= 0.1, gamma= 0, max_depth= 5)\n",
        "xgb_after_tuning.fit(X_train, y_train)"
      ],
      "id": "ef00e1c2",
      "execution_count": 57,
      "outputs": [
        {
          "output_type": "execute_result",
          "data": {
            "text/plain": [
              "XGBClassifier(base_score=0.5, booster='gbtree', colsample_bylevel=1,\n",
              "              colsample_bynode=1, colsample_bytree=1, eta=0.1, gamma=0,\n",
              "              learning_rate=0.1, max_delta_step=0, max_depth=5,\n",
              "              min_child_weight=1, missing=None, n_estimators=100, n_jobs=1,\n",
              "              nthread=None, objective='binary:logistic', random_state=0,\n",
              "              reg_alpha=0, reg_lambda=1, scale_pos_weight=1, seed=None,\n",
              "              silent=None, subsample=1, verbosity=1)"
            ]
          },
          "metadata": {
            "tags": []
          },
          "execution_count": 57
        }
      ]
    },
    {
      "cell_type": "code",
      "metadata": {
        "execution": {
          "iopub.execute_input": "2021-08-17T03:41:56.980879Z",
          "iopub.status.busy": "2021-08-17T03:41:56.980056Z",
          "iopub.status.idle": "2021-08-17T03:41:58.388628Z",
          "shell.execute_reply": "2021-08-17T03:41:58.386536Z",
          "shell.execute_reply.started": "2021-08-17T03:13:26.100685Z"
        },
        "papermill": {
          "duration": 1.529672,
          "end_time": "2021-08-17T03:41:58.388920",
          "exception": false,
          "start_time": "2021-08-17T03:41:56.859248",
          "status": "completed"
        },
        "tags": [],
        "colab": {
          "base_uri": "https://localhost:8080/"
        },
        "id": "eb17d8c4",
        "outputId": "92952ae6-098d-429f-f5ad-7a3c0d47ae06"
      },
      "source": [
        "evaluate_model(xgb_after_tuning, X_test, y_test)"
      ],
      "id": "eb17d8c4",
      "execution_count": 58,
      "outputs": [
        {
          "output_type": "stream",
          "text": [
            "[[ 274   48]\n",
            " [  32 1543]]\n",
            "ROC AUC Score:  0.9153071083505865\n",
            "Accuracy Score:  0.9578281497100686\n",
            "Precision Score:  0.9698302954116907\n",
            "Recall Score:  0.9796825396825397\n"
          ],
          "name": "stdout"
        }
      ]
    },
    {
      "cell_type": "markdown",
      "metadata": {
        "papermill": {
          "duration": 0.117956,
          "end_time": "2021-08-17T03:41:58.623919",
          "exception": false,
          "start_time": "2021-08-17T03:41:58.505963",
          "status": "completed"
        },
        "tags": [],
        "id": "96a90cd3"
      },
      "source": [
        "# **Evaluation**"
      ],
      "id": "96a90cd3"
    },
    {
      "cell_type": "code",
      "metadata": {
        "execution": {
          "iopub.execute_input": "2021-08-17T03:41:58.905418Z",
          "iopub.status.busy": "2021-08-17T03:41:58.879557Z",
          "iopub.status.idle": "2021-08-17T03:42:00.003196Z",
          "shell.execute_reply": "2021-08-17T03:42:00.003913Z",
          "shell.execute_reply.started": "2021-08-17T02:19:38.764606Z"
        },
        "papermill": {
          "duration": 1.262384,
          "end_time": "2021-08-17T03:42:00.004246",
          "exception": false,
          "start_time": "2021-08-17T03:41:58.741862",
          "status": "completed"
        },
        "tags": [],
        "colab": {
          "base_uri": "https://localhost:8080/",
          "height": 745
        },
        "id": "57dbb216",
        "outputId": "af1cdff5-7684-4735-d28c-3d799baa44a3"
      },
      "source": [
        "# sorted(zip(clf.feature_importances_, X.columns), reverse=True)\n",
        "feature_imp = pd.DataFrame(sorted(zip(gbm.feature_importances_,X.columns)), columns=['Value','Feature'])\n",
        "\n",
        "plt.figure(figsize=(20, 10))\n",
        "sns.barplot(x=\"Value\", y=\"Feature\", data=feature_imp.sort_values(by=\"Value\", ascending=False))\n",
        "plt.title('LightGBM Features (avg over folds)')\n",
        "plt.tight_layout()\n",
        "plt.show()\n",
        "plt.savefig('lgbm_importances-01.png')"
      ],
      "id": "57dbb216",
      "execution_count": 59,
      "outputs": [
        {
          "output_type": "display_data",
          "data": {
            "image/png": "[encoded data removed]",
            "text/plain": [
              "<Figure size 1440x720 with 1 Axes>"
            ]
          },
          "metadata": {
            "tags": [],
            "needs_background": "light"
          }
        },
        {
          "output_type": "display_data",
          "data": {
            "text/plain": [
              "<Figure size 432x288 with 0 Axes>"
            ]
          },
          "metadata": {
            "tags": []
          }
        }
      ]
    }
  ]
}